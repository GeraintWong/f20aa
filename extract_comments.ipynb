{
 "cells": [
  {
   "cell_type": "code",
   "execution_count": 1,
   "id": "7060375c-bbef-4c82-a93c-57df454d8225",
   "metadata": {},
   "outputs": [
    {
     "name": "stdout",
     "output_type": "stream",
     "text": [
      "Requirement already satisfied: asyncpraw in c:\\users\\athin suresh\\anaconda3\\lib\\site-packages (7.8.1)\n",
      "Requirement already satisfied: aiofiles in c:\\users\\athin suresh\\anaconda3\\lib\\site-packages (from asyncpraw) (24.1.0)\n",
      "Requirement already satisfied: aiohttp<4 in c:\\users\\athin suresh\\anaconda3\\lib\\site-packages (from asyncpraw) (3.9.5)\n",
      "Requirement already satisfied: aiosqlite<=0.17.0 in c:\\users\\athin suresh\\anaconda3\\lib\\site-packages (from asyncpraw) (0.17.0)\n",
      "Requirement already satisfied: asyncprawcore<3,>=2.4 in c:\\users\\athin suresh\\anaconda3\\lib\\site-packages (from asyncpraw) (2.4.0)\n",
      "Requirement already satisfied: update_checker>=0.18 in c:\\users\\athin suresh\\anaconda3\\lib\\site-packages (from asyncpraw) (0.18.0)\n",
      "Requirement already satisfied: aiosignal>=1.1.2 in c:\\users\\athin suresh\\anaconda3\\lib\\site-packages (from aiohttp<4->asyncpraw) (1.2.0)\n",
      "Requirement already satisfied: attrs>=17.3.0 in c:\\users\\athin suresh\\anaconda3\\lib\\site-packages (from aiohttp<4->asyncpraw) (23.1.0)\n",
      "Requirement already satisfied: frozenlist>=1.1.1 in c:\\users\\athin suresh\\anaconda3\\lib\\site-packages (from aiohttp<4->asyncpraw) (1.4.0)\n",
      "Requirement already satisfied: multidict<7.0,>=4.5 in c:\\users\\athin suresh\\anaconda3\\lib\\site-packages (from aiohttp<4->asyncpraw) (6.0.4)\n",
      "Requirement already satisfied: yarl<2.0,>=1.0 in c:\\users\\athin suresh\\anaconda3\\lib\\site-packages (from aiohttp<4->asyncpraw) (1.9.3)\n",
      "Requirement already satisfied: typing_extensions>=3.7.2 in c:\\users\\athin suresh\\anaconda3\\lib\\site-packages (from aiosqlite<=0.17.0->asyncpraw) (4.11.0)\n",
      "Requirement already satisfied: requests>=2.3.0 in c:\\users\\athin suresh\\anaconda3\\lib\\site-packages (from update_checker>=0.18->asyncpraw) (2.32.2)\n",
      "Requirement already satisfied: charset-normalizer<4,>=2 in c:\\users\\athin suresh\\anaconda3\\lib\\site-packages (from requests>=2.3.0->update_checker>=0.18->asyncpraw) (2.0.4)\n",
      "Requirement already satisfied: idna<4,>=2.5 in c:\\users\\athin suresh\\anaconda3\\lib\\site-packages (from requests>=2.3.0->update_checker>=0.18->asyncpraw) (3.7)\n",
      "Requirement already satisfied: urllib3<3,>=1.21.1 in c:\\users\\athin suresh\\anaconda3\\lib\\site-packages (from requests>=2.3.0->update_checker>=0.18->asyncpraw) (2.2.2)\n",
      "Requirement already satisfied: certifi>=2017.4.17 in c:\\users\\athin suresh\\anaconda3\\lib\\site-packages (from requests>=2.3.0->update_checker>=0.18->asyncpraw) (2024.6.2)\n",
      "Note: you may need to restart the kernel to use updated packages.\n"
     ]
    }
   ],
   "source": [
    "pip install asyncpraw\n"
   ]
  },
  {
   "cell_type": "code",
   "execution_count": 2,
   "id": "6b26a3f3-aa15-427f-b1b1-662b8af9627d",
   "metadata": {},
   "outputs": [],
   "source": [
    "import asyncpraw\n",
    "reddit = asyncpraw.Reddit(\n",
    "    client_id=\"\",\n",
    "    client_secret=\"\",\n",
    "    user_agent=\"\",\n",
    "    username=\"\",\n",
    "    password=\"\"\n",
    ")"
   ]
  },
  {
   "cell_type": "code",
   "execution_count": 3,
   "id": "6e61f971-c7d7-4815-b7a5-4eb0743f4c22",
   "metadata": {},
   "outputs": [],
   "source": [
    "top_posts = {'ID':[],'URL':[],'Title':[],'Upvotes':[],'Comments':[]}"
   ]
  },
  {
   "cell_type": "code",
   "execution_count": 4,
   "id": "776db99a-cbf1-4284-9b0f-b5d52442818c",
   "metadata": {},
   "outputs": [],
   "source": [
    "subreddit = await reddit.subreddit(\"AirAsia\")   # add a subreddit name here\n",
    "async for submission in subreddit.top(time_filter=\"all\",limit=25):\n",
    "  top_posts[\"ID\"].append(submission.id)\n",
    "  top_posts[\"URL\"].append(submission.url)\n",
    "  top_posts[\"Title\"].append(submission.title)\n",
    "  top_posts[\"Upvotes\"].append(submission.score)\n",
    "  top_posts[\"Comments\"].append(submission.num_comments)"
   ]
  },
  {
   "cell_type": "code",
   "execution_count": 5,
   "id": "5159ae7c-0c5e-46cc-b3f7-4db0d950c8d3",
   "metadata": {},
   "outputs": [
    {
     "data": {
      "text/html": [
       "<div>\n",
       "<style scoped>\n",
       "    .dataframe tbody tr th:only-of-type {\n",
       "        vertical-align: middle;\n",
       "    }\n",
       "\n",
       "    .dataframe tbody tr th {\n",
       "        vertical-align: top;\n",
       "    }\n",
       "\n",
       "    .dataframe thead th {\n",
       "        text-align: right;\n",
       "    }\n",
       "</style>\n",
       "<table border=\"1\" class=\"dataframe\">\n",
       "  <thead>\n",
       "    <tr style=\"text-align: right;\">\n",
       "      <th></th>\n",
       "      <th>ID</th>\n",
       "      <th>URL</th>\n",
       "      <th>Title</th>\n",
       "      <th>Upvotes</th>\n",
       "      <th>Comments</th>\n",
       "    </tr>\n",
       "  </thead>\n",
       "  <tbody>\n",
       "    <tr>\n",
       "      <th>0</th>\n",
       "      <td>1irc16q</td>\n",
       "      <td>https://www.reddit.com/r/AirAsia/comments/1irc...</td>\n",
       "      <td>Bag weight @ Changi</td>\n",
       "      <td>1</td>\n",
       "      <td>4</td>\n",
       "    </tr>\n",
       "    <tr>\n",
       "      <th>1</th>\n",
       "      <td>1ir60jp</td>\n",
       "      <td>https://www.reddit.com/r/AirAsia/comments/1ir6...</td>\n",
       "      <td>Question about checked-in luggage</td>\n",
       "      <td>1</td>\n",
       "      <td>2</td>\n",
       "    </tr>\n",
       "    <tr>\n",
       "      <th>2</th>\n",
       "      <td>1iqokx6</td>\n",
       "      <td>https://www.reddit.com/r/AirAsia/comments/1iqo...</td>\n",
       "      <td>Cancelled flights??</td>\n",
       "      <td>1</td>\n",
       "      <td>1</td>\n",
       "    </tr>\n",
       "    <tr>\n",
       "      <th>3</th>\n",
       "      <td>1iq1g5g</td>\n",
       "      <td>https://www.reddit.com/r/AirAsia/comments/1iq1...</td>\n",
       "      <td>Airasia boarding pass</td>\n",
       "      <td>1</td>\n",
       "      <td>2</td>\n",
       "    </tr>\n",
       "    <tr>\n",
       "      <th>4</th>\n",
       "      <td>1hydg7v</td>\n",
       "      <td>https://www.reddit.com/r/AirAsia/comments/1hyd...</td>\n",
       "      <td>does anyone know the pre-departure song that w...</td>\n",
       "      <td>1</td>\n",
       "      <td>2</td>\n",
       "    </tr>\n",
       "    <tr>\n",
       "      <th>5</th>\n",
       "      <td>1hmdy8o</td>\n",
       "      <td>https://en.tempo.co/read/1955977/indonesia-air...</td>\n",
       "      <td>Indonesia AirAsia Named Most Punctual Airline ...</td>\n",
       "      <td>1</td>\n",
       "      <td>1</td>\n",
       "    </tr>\n",
       "  </tbody>\n",
       "</table>\n",
       "</div>"
      ],
      "text/plain": [
       "        ID                                                URL  \\\n",
       "0  1irc16q  https://www.reddit.com/r/AirAsia/comments/1irc...   \n",
       "1  1ir60jp  https://www.reddit.com/r/AirAsia/comments/1ir6...   \n",
       "2  1iqokx6  https://www.reddit.com/r/AirAsia/comments/1iqo...   \n",
       "3  1iq1g5g  https://www.reddit.com/r/AirAsia/comments/1iq1...   \n",
       "4  1hydg7v  https://www.reddit.com/r/AirAsia/comments/1hyd...   \n",
       "5  1hmdy8o  https://en.tempo.co/read/1955977/indonesia-air...   \n",
       "\n",
       "                                               Title  Upvotes  Comments  \n",
       "0                                Bag weight @ Changi        1         4  \n",
       "1                  Question about checked-in luggage        1         2  \n",
       "2                                Cancelled flights??        1         1  \n",
       "3                              Airasia boarding pass        1         2  \n",
       "4  does anyone know the pre-departure song that w...        1         2  \n",
       "5  Indonesia AirAsia Named Most Punctual Airline ...        1         1  "
      ]
     },
     "execution_count": 5,
     "metadata": {},
     "output_type": "execute_result"
    }
   ],
   "source": [
    "import pandas as pd\n",
    "dataset = pd.DataFrame.from_dict(top_posts)\n",
    "dataset"
   ]
  },
  {
   "cell_type": "code",
   "execution_count": 7,
   "id": "f1472405-cd41-45d3-ad5f-10abe5b14448",
   "metadata": {},
   "outputs": [],
   "source": [
    "dataset.to_csv('AirAsia.csv', index=False) # this prints from dataframe to a CSV file"
   ]
  },
  {
   "cell_type": "code",
   "execution_count": 18,
   "id": "c77a6fdb-f951-4f67-91d6-721ce74a0c23",
   "metadata": {},
   "outputs": [
    {
     "name": "stdout",
     "output_type": "stream",
     "text": [
      "Fetching comments for: Bag weight @ Changi (https://www.reddit.com/r/AirAsia/comments/1irc16q/bag_weight_changi/)\n",
      "Fetching comments for: Question about checked-in luggage (https://www.reddit.com/r/AirAsia/comments/1ir60jp/question_about_checkedin_luggage/)\n",
      "Fetching comments for: Cancelled flights?? (https://www.reddit.com/r/AirAsia/comments/1iqokx6/cancelled_flights/)\n",
      "Fetching comments for: Airasia boarding pass (https://www.reddit.com/r/AirAsia/comments/1iq1g5g/airasia_boarding_pass/)\n",
      "Fetching comments for: does anyone know the pre-departure song that was played on airasia flights in 2023?  (https://www.reddit.com/r/AirAsia/comments/1hydg7v/does_anyone_know_the_predeparture_song_that_was/)\n",
      "Skipping invalid URL: https://en.tempo.co/read/1955977/indonesia-airasia-named-most-punctual-airline-in-southeast-asia-in-november-2024\n",
      "Comments saved to 'reddit_comments_replacemore.csv'\n"
     ]
    }
   ],
   "source": [
    "\n",
    "# List to store extracted comments\n",
    "comments_data = []\n",
    "\n",
    "for index, row in dataset.iterrows():\n",
    "        url = row[\"URL\"]\n",
    "\n",
    "        # Skip invalid URLs (Only process Reddit post links)\n",
    "        if \"reddit.com/r/\" not in url or \"comments\" not in url:\n",
    "            print(f\"Skipping invalid URL: {url}\")\n",
    "            continue\n",
    "\n",
    "        try:\n",
    "            submission = await reddit.submission(url=url)  # Fetch submission\n",
    "            await submission.comments()  # Load comments\n",
    "            await submission.comments.replace_more(limit=None)  # Load all nested replies\n",
    "\n",
    "            print(f\"Fetching comments for: {row['Title']} ({url})\")\n",
    "\n",
    "            # Create a queue for BFS traversal of comments\n",
    "            comment_queue = submission.comments[:]\n",
    "            while comment_queue:\n",
    "                comment = comment_queue.pop(0)\n",
    "                comments_data.append({\n",
    "                    \"URL\": url,\n",
    "                    \"Title\": row[\"Title\"],\n",
    "                    \"Comment\": comment.body,\n",
    "                    \"Depth\": comment.depth,  # Depth of the comment (0 = top-level)\n",
    "                    \"Label\": \"\"  # Empty label for manual annotation\n",
    "                })\n",
    "                comment_queue.extend(comment.replies)  # Add replies to queue\n",
    "\n",
    "        except Exception as e:\n",
    "            print(f\"Error fetching comments for {url}: {e}\")\n",
    "\n",
    "    # Convert to DataFrame and save to CSV\n",
    "if comments_data:\n",
    "        comments_df = pd.DataFrame(comments_data)\n",
    "        comments_df.to_csv(\"reddit_comments_replacemore.csv\", index=False)\n",
    "        print(\"Comments saved to 'reddit_comments_replacemore.csv'\")\n",
    "else:\n",
    "        print(\"No valid comments were fetched.\")\n",
    "\n",
    "\n"
   ]
  },
  {
   "cell_type": "code",
   "execution_count": null,
   "id": "af873e83-9e91-48a7-b5f0-9b0558680252",
   "metadata": {},
   "outputs": [],
   "source": []
  }
 ],
 "metadata": {
  "kernelspec": {
   "display_name": "Python 3 (ipykernel)",
   "language": "python",
   "name": "python3"
  },
  "language_info": {
   "codemirror_mode": {
    "name": "ipython",
    "version": 3
   },
   "file_extension": ".py",
   "mimetype": "text/x-python",
   "name": "python",
   "nbconvert_exporter": "python",
   "pygments_lexer": "ipython3",
   "version": "3.12.4"
  }
 },
 "nbformat": 4,
 "nbformat_minor": 5
}
