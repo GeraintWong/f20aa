{
 "cells": [
  {
   "cell_type": "markdown",
   "id": "ba836256-9124-4dee-8370-8078d932a304",
   "metadata": {},
   "source": [
    "# BOW_COUNTVEC_TF-IDF_PIPELINE"
   ]
  },
  {
   "cell_type": "markdown",
   "id": "2d0067b1-9df2-4d5a-a938-4bbecf940a29",
   "metadata": {},
   "source": [
    "## EDA"
   ]
  },
  {
   "cell_type": "code",
   "execution_count": 1,
   "id": "279bb054-9398-4b86-820b-7e60a5ad5f75",
   "metadata": {},
   "outputs": [
    {
     "name": "stdout",
     "output_type": "stream",
     "text": [
      "Index(['Review', 'Sentiment'], dtype='object')\n",
      "Sentiment\n",
      "Negative    533\n",
      "Neutral     263\n",
      "Positive    198\n",
      "Name: count, dtype: int64\n"
     ]
    }
   ],
   "source": [
    "import pandas as pd\n",
    "data = 'TripleA.csv'\n",
    "df = pd.read_csv(data)\n",
    "print(df.columns)\n",
    "print(df[\"Sentiment\"].value_counts())\n"
   ]
  },
  {
   "cell_type": "code",
   "execution_count": 2,
   "id": "4299f20b-3f48-41ff-9c8e-dc1994a7539b",
   "metadata": {},
   "outputs": [
    {
     "name": "stdout",
     "output_type": "stream",
     "text": [
      "All sentiments are correctly labeled.\n"
     ]
    }
   ],
   "source": [
    "valid_sentiments = {\"Positive\", \"Neutral\", \"Negative\"}\n",
    "unique_sentiments = set(df[\"Sentiment\"].unique())\n",
    "\n",
    "# Find invalid sentiment labels\n",
    "invalid_sentiments = unique_sentiments - valid_sentiments\n",
    "\n",
    "if invalid_sentiments:\n",
    "    print(\"Unexpected sentiment labels found:\", invalid_sentiments)\n",
    "    invalid_rows = df[df[\"Sentiment\"].isin(invalid_sentiments)]\n",
    "    print(invalid_rows)\n",
    "else:\n",
    "    print(\"All sentiments are correctly labeled.\")"
   ]
  },
  {
   "cell_type": "code",
   "execution_count": 3,
   "id": "c732704f-472a-4a9a-8b8b-0bb72e098866",
   "metadata": {},
   "outputs": [
    {
     "data": {
      "text/html": [
       "<div>\n",
       "<style scoped>\n",
       "    .dataframe tbody tr th:only-of-type {\n",
       "        vertical-align: middle;\n",
       "    }\n",
       "\n",
       "    .dataframe tbody tr th {\n",
       "        vertical-align: top;\n",
       "    }\n",
       "\n",
       "    .dataframe thead th {\n",
       "        text-align: right;\n",
       "    }\n",
       "</style>\n",
       "<table border=\"1\" class=\"dataframe\">\n",
       "  <thead>\n",
       "    <tr style=\"text-align: right;\">\n",
       "      <th></th>\n",
       "      <th>Review</th>\n",
       "      <th>Sentiment</th>\n",
       "    </tr>\n",
       "  </thead>\n",
       "  <tbody>\n",
       "    <tr>\n",
       "      <th>count</th>\n",
       "      <td>994</td>\n",
       "      <td>994</td>\n",
       "    </tr>\n",
       "    <tr>\n",
       "      <th>unique</th>\n",
       "      <td>988</td>\n",
       "      <td>3</td>\n",
       "    </tr>\n",
       "    <tr>\n",
       "      <th>top</th>\n",
       "      <td>They are wonderful when they worksB</td>\n",
       "      <td>Negative</td>\n",
       "    </tr>\n",
       "    <tr>\n",
       "      <th>freq</th>\n",
       "      <td>2</td>\n",
       "      <td>533</td>\n",
       "    </tr>\n",
       "  </tbody>\n",
       "</table>\n",
       "</div>"
      ],
      "text/plain": [
       "                                     Review Sentiment\n",
       "count                                   994       994\n",
       "unique                                  988         3\n",
       "top     They are wonderful when they worksB  Negative\n",
       "freq                                      2       533"
      ]
     },
     "execution_count": 3,
     "metadata": {},
     "output_type": "execute_result"
    }
   ],
   "source": [
    "df.describe()"
   ]
  },
  {
   "cell_type": "code",
   "execution_count": 4,
   "id": "e89f8f9f-17a6-4803-ab56-54f271031811",
   "metadata": {},
   "outputs": [
    {
     "name": "stdout",
     "output_type": "stream",
     "text": [
      "6\n"
     ]
    }
   ],
   "source": [
    "print(df.duplicated(subset=\"Review\").sum())"
   ]
  },
  {
   "cell_type": "code",
   "execution_count": 5,
   "id": "2f5f4115-4e72-4376-984f-fcc88d68daf2",
   "metadata": {},
   "outputs": [
    {
     "data": {
      "text/html": [
       "<div>\n",
       "<style scoped>\n",
       "    .dataframe tbody tr th:only-of-type {\n",
       "        vertical-align: middle;\n",
       "    }\n",
       "\n",
       "    .dataframe tbody tr th {\n",
       "        vertical-align: top;\n",
       "    }\n",
       "\n",
       "    .dataframe thead tr th {\n",
       "        text-align: left;\n",
       "    }\n",
       "\n",
       "    .dataframe thead tr:last-of-type th {\n",
       "        text-align: right;\n",
       "    }\n",
       "</style>\n",
       "<table border=\"1\" class=\"dataframe\">\n",
       "  <thead>\n",
       "    <tr>\n",
       "      <th></th>\n",
       "      <th colspan=\"4\" halign=\"left\">Review</th>\n",
       "    </tr>\n",
       "    <tr>\n",
       "      <th></th>\n",
       "      <th>count</th>\n",
       "      <th>unique</th>\n",
       "      <th>top</th>\n",
       "      <th>freq</th>\n",
       "    </tr>\n",
       "    <tr>\n",
       "      <th>Sentiment</th>\n",
       "      <th></th>\n",
       "      <th></th>\n",
       "      <th></th>\n",
       "      <th></th>\n",
       "    </tr>\n",
       "  </thead>\n",
       "  <tbody>\n",
       "    <tr>\n",
       "      <th>Negative</th>\n",
       "      <td>533</td>\n",
       "      <td>530</td>\n",
       "      <td>Air Asia is the most incompetent airlines Ive ...</td>\n",
       "      <td>2</td>\n",
       "    </tr>\n",
       "    <tr>\n",
       "      <th>Neutral</th>\n",
       "      <td>263</td>\n",
       "      <td>263</td>\n",
       "      <td>Thieving bass still owe me a 1000 usd I will n...</td>\n",
       "      <td>1</td>\n",
       "    </tr>\n",
       "    <tr>\n",
       "      <th>Positive</th>\n",
       "      <td>198</td>\n",
       "      <td>198</td>\n",
       "      <td>Ive flown with them dozens of times and never ...</td>\n",
       "      <td>1</td>\n",
       "    </tr>\n",
       "  </tbody>\n",
       "</table>\n",
       "</div>"
      ],
      "text/plain": [
       "          Review                                                            \\\n",
       "           count unique                                                top   \n",
       "Sentiment                                                                    \n",
       "Negative     533    530  Air Asia is the most incompetent airlines Ive ...   \n",
       "Neutral      263    263  Thieving bass still owe me a 1000 usd I will n...   \n",
       "Positive     198    198  Ive flown with them dozens of times and never ...   \n",
       "\n",
       "                \n",
       "          freq  \n",
       "Sentiment       \n",
       "Negative     2  \n",
       "Neutral      1  \n",
       "Positive     1  "
      ]
     },
     "execution_count": 5,
     "metadata": {},
     "output_type": "execute_result"
    }
   ],
   "source": [
    "df.groupby('Sentiment').describe()"
   ]
  },
  {
   "cell_type": "code",
   "execution_count": 6,
   "id": "adfad2cd-bf10-4de5-ad80-fa598dee7f58",
   "metadata": {},
   "outputs": [
    {
     "data": {
      "text/html": [
       "<div>\n",
       "<style scoped>\n",
       "    .dataframe tbody tr th:only-of-type {\n",
       "        vertical-align: middle;\n",
       "    }\n",
       "\n",
       "    .dataframe tbody tr th {\n",
       "        vertical-align: top;\n",
       "    }\n",
       "\n",
       "    .dataframe thead th {\n",
       "        text-align: right;\n",
       "    }\n",
       "</style>\n",
       "<table border=\"1\" class=\"dataframe\">\n",
       "  <thead>\n",
       "    <tr style=\"text-align: right;\">\n",
       "      <th></th>\n",
       "      <th>Review</th>\n",
       "      <th>Sentiment</th>\n",
       "      <th>length</th>\n",
       "    </tr>\n",
       "  </thead>\n",
       "  <tbody>\n",
       "    <tr>\n",
       "      <th>0</th>\n",
       "      <td>Ive flown with them dozens of times and never ...</td>\n",
       "      <td>Positive</td>\n",
       "      <td>66</td>\n",
       "    </tr>\n",
       "    <tr>\n",
       "      <th>1</th>\n",
       "      <td>Ive flown AirAsia Thai AirAsia and AirAsia Phi...</td>\n",
       "      <td>Positive</td>\n",
       "      <td>77</td>\n",
       "    </tr>\n",
       "    <tr>\n",
       "      <th>2</th>\n",
       "      <td>I have flown with them several times and never...</td>\n",
       "      <td>Positive</td>\n",
       "      <td>155</td>\n",
       "    </tr>\n",
       "    <tr>\n",
       "      <th>3</th>\n",
       "      <td>Within Thailand I have good experiences with t...</td>\n",
       "      <td>Negative</td>\n",
       "      <td>164</td>\n",
       "    </tr>\n",
       "    <tr>\n",
       "      <th>4</th>\n",
       "      <td>Same experience with AirAsia Japan</td>\n",
       "      <td>Negative</td>\n",
       "      <td>34</td>\n",
       "    </tr>\n",
       "  </tbody>\n",
       "</table>\n",
       "</div>"
      ],
      "text/plain": [
       "                                              Review Sentiment  length\n",
       "0  Ive flown with them dozens of times and never ...  Positive      66\n",
       "1  Ive flown AirAsia Thai AirAsia and AirAsia Phi...  Positive      77\n",
       "2  I have flown with them several times and never...  Positive     155\n",
       "3  Within Thailand I have good experiences with t...  Negative     164\n",
       "4                 Same experience with AirAsia Japan  Negative      34"
      ]
     },
     "execution_count": 6,
     "metadata": {},
     "output_type": "execute_result"
    }
   ],
   "source": [
    "df['length']=df['Review'].apply(len)\n",
    "df.head()"
   ]
  },
  {
   "cell_type": "markdown",
   "id": "97626772-8107-459f-9a99-f73382223358",
   "metadata": {
    "jp-MarkdownHeadingCollapsed": true
   },
   "source": [
    "## Data Visualisation"
   ]
  },
  {
   "cell_type": "code",
   "execution_count": 7,
   "id": "84e7ad1d-ce39-4f2a-9844-9e09f5cb569a",
   "metadata": {},
   "outputs": [],
   "source": [
    "import matplotlib.pyplot as plt\n",
    "import seaborn as sns\n",
    "\n",
    "%matplotlib inline"
   ]
  },
  {
   "cell_type": "code",
   "execution_count": 8,
   "id": "b688becc-ac48-40c2-b7ed-0a52acb613be",
   "metadata": {},
   "outputs": [
    {
     "data": {
      "text/plain": [
       "<Axes: ylabel='Frequency'>"
      ]
     },
     "execution_count": 8,
     "metadata": {},
     "output_type": "execute_result"
    },
    {
     "data": {
      "image/png": "[encoded data removed]",
      "text/plain": [
       "<Figure size 640x480 with 1 Axes>"
      ]
     },
     "metadata": {},
     "output_type": "display_data"
    }
   ],
   "source": [
    "df['length'].plot(bins=50, kind='hist') "
   ]
  },
  {
   "cell_type": "code",
   "execution_count": 9,
   "id": "67fcfa61-4623-44cd-9315-566ca626e876",
   "metadata": {},
   "outputs": [
    {
     "data": {
      "text/plain": [
       "count     994.000000\n",
       "mean      225.484909\n",
       "std       258.856635\n",
       "min         8.000000\n",
       "25%        80.000000\n",
       "50%       153.000000\n",
       "75%       268.750000\n",
       "max      3000.000000\n",
       "Name: length, dtype: float64"
      ]
     },
     "execution_count": 9,
     "metadata": {},
     "output_type": "execute_result"
    }
   ],
   "source": [
    "df.length.describe()"
   ]
  },
  {
   "cell_type": "code",
   "execution_count": 10,
   "id": "0f670cb0-7f77-4bbe-b4d5-3bef4396d693",
   "metadata": {},
   "outputs": [
    {
     "data": {
      "text/plain": [
       "'Im a frequent AirAsia flyer People dont get how they keep things low cost Its like getting an Axia rahmah and complaining about how little you get for such a cheap price They dont give you food extra leg space or check in baggage just to keep costs low No other flight offers prices as low as theirs RM29 from KL to Langkawi RM19 from Kuching to KK RM160 to Bali If you want addons and you can afford it or fly other airlines good for you But for a budget traveler who wants to fly good for them Their taxi time is about 20 minutes meaning people get off once they land new passengers get on board and they go to their next destination They save costs because pilots cabin crew dont have to stay at the destination Because of the tight schedule if anything goes wrong its a domino effect for all their other flights It can range from a malfunction weather crews getting sick or exceeding legal work hours due to delays airport technical issues these will all affect the flights And its not even limited to AirAsia All airlines can be affected They often reschedule or cancel flights but they give you the option of changing your flights 30 days before or after your initial date or refund your credits I utilize this feature for holidays Id book on a week close to public holidays and prepare myself for that week If theres a flight change and I am given a free reschedule Ill move my flights to the dates of the public holiday FOR FREE If you try to book flights on the same day it will usually be 34x more expensive I get to save my AL in this case If you still want to travel on your initial dates just choose a different time on the same day And all these are easy to do via the chat bot There are 2 scenarios Ive faced that benefited me I booked return flights to Kuching for a holiday for RM160 They moved my flight 6 months before the actual date I waited During a sale they were selling Krabi return tickets for RM190 I refunded my RM160 and added RM30 for a flight to Krabi instead I booked the flights for a weekend in the end of March Few months before that flight they moved the time I then changed my dates to the songkran festival an experience I always wanted to try It was always more expensive to fly on Songkran dates but with my free flight change I managed to go for a really low price If you have a complicated case and need an actual customer service just spam the chatbox saying stuff like your problem isnt solved I need an agent It usually gets me connected to one after a few spams For those affected during COVID19 I managed to get RM800 credits for future flights They gave 3 years validity for it I bought flights for other people and they transferred the money to me It was never limited to just your own name The balance credits I use to fly Theres just so much online hate on AirAsia They have an ontime performance rate of more than 80 People only bitch about AirAsia whenever their flight is delayed You dont see them post compliments when the flights arrive on time'"
      ]
     },
     "execution_count": 10,
     "metadata": {},
     "output_type": "execute_result"
    }
   ],
   "source": [
    "df[df['length'] == 3000]['Review'].iloc[0]"
   ]
  },
  {
   "cell_type": "code",
   "execution_count": 11,
   "id": "0a81fa9f-d2aa-4fdc-b236-f35d8099b43a",
   "metadata": {},
   "outputs": [
    {
     "data": {
      "text/plain": [
       "array([[<Axes: title={'center': 'Negative'}>,\n",
       "        <Axes: title={'center': 'Neutral'}>],\n",
       "       [<Axes: title={'center': 'Positive'}>, <Axes: >]], dtype=object)"
      ]
     },
     "execution_count": 11,
     "metadata": {},
     "output_type": "execute_result"
    },
    {
     "data": {
      "image/png": "[encoded data removed]",
      "text/plain": [
       "<Figure size 1200x400 with 4 Axes>"
      ]
     },
     "metadata": {},
     "output_type": "display_data"
    }
   ],
   "source": [
    "df.hist(column='length', by='Sentiment', bins=50,figsize=(12,4))"
   ]
  },
  {
   "cell_type": "markdown",
   "id": "48d8895d-74b5-4d9b-b810-e3d9c6ac4d01",
   "metadata": {},
   "source": [
    "## Text Preprocessing"
   ]
  },
  {
   "cell_type": "code",
   "execution_count": 12,
   "id": "d5c59daf-e5ee-4020-a670-367c86197616",
   "metadata": {},
   "outputs": [],
   "source": [
    "import nltk\n",
    "from nltk.corpus import stopwords"
   ]
  },
  {
   "cell_type": "code",
   "execution_count": 13,
   "id": "c931e9eb-1928-4b94-8d56-bdc321d2c332",
   "metadata": {},
   "outputs": [
    {
     "name": "stderr",
     "output_type": "stream",
     "text": [
      "[nltk_data] Downloading package stopwords to C:\\Users\\Athin\n",
      "[nltk_data]     Suresh\\AppData\\Roaming\\nltk_data...\n",
      "[nltk_data]   Package stopwords is already up-to-date!\n"
     ]
    },
    {
     "data": {
      "text/plain": [
       "True"
      ]
     },
     "execution_count": 13,
     "metadata": {},
     "output_type": "execute_result"
    }
   ],
   "source": [
    "nltk.download('stopwords')"
   ]
  },
  {
   "cell_type": "code",
   "execution_count": 14,
   "id": "66009fd8-5634-4af9-b47f-1adad74cc33c",
   "metadata": {},
   "outputs": [
    {
     "data": {
      "text/plain": [
       "['a', 'about', 'above', 'after', 'again', 'against', 'ain', 'all', 'am', 'an']"
      ]
     },
     "execution_count": 14,
     "metadata": {},
     "output_type": "execute_result"
    }
   ],
   "source": [
    "stopwords.words('english')[0:10]"
   ]
  },
  {
   "cell_type": "code",
   "execution_count": 15,
   "id": "f3a7e2fd-138e-4a0b-b561-46b830bdc1d6",
   "metadata": {},
   "outputs": [
    {
     "name": "stdout",
     "output_type": "stream",
     "text": [
      "Sample message Notice it has punctuation\n"
     ]
    }
   ],
   "source": [
    "import string\n",
    "\n",
    "mess = 'Sample message! Notice: it has punctuation.'\n",
    "\n",
    "# Check characters to see if they are in punctuation\n",
    "nopunc = [char for char in mess if char not in string.punctuation]\n",
    "\n",
    "# Join the characters again to form the string.\n",
    "nopunc = ''.join(nopunc)\n",
    "print(nopunc)"
   ]
  },
  {
   "cell_type": "code",
   "execution_count": 16,
   "id": "192557f8-3c7f-4314-aa89-3672e8190ff4",
   "metadata": {},
   "outputs": [
    {
     "data": {
      "text/plain": [
       "['Sample', 'message', 'Notice', 'it', 'has', 'punctuation']"
      ]
     },
     "execution_count": 16,
     "metadata": {},
     "output_type": "execute_result"
    }
   ],
   "source": [
    "nopunc.split()"
   ]
  },
  {
   "cell_type": "code",
   "execution_count": 17,
   "id": "0f881863-787e-469e-8c28-19c8ea115877",
   "metadata": {},
   "outputs": [],
   "source": [
    "clean_mess = [word for word in nopunc.split() if word.lower() not in stopwords.words('english')]"
   ]
  },
  {
   "cell_type": "code",
   "execution_count": 18,
   "id": "20ce3294-ee04-42f3-9b8b-8515e1f2d7e6",
   "metadata": {},
   "outputs": [
    {
     "data": {
      "text/plain": [
       "['Sample', 'message', 'Notice', 'punctuation']"
      ]
     },
     "execution_count": 18,
     "metadata": {},
     "output_type": "execute_result"
    }
   ],
   "source": [
    "clean_mess"
   ]
  },
  {
   "cell_type": "code",
   "execution_count": 19,
   "id": "4e5e11e6-f42e-4e5c-82a0-59f67568026a",
   "metadata": {},
   "outputs": [],
   "source": [
    "def text_process(mess):\n",
    "    \"\"\"\n",
    "    Takes in a string of text, then performs the following:\n",
    "    1. Remove all punctuation\n",
    "    2. Remove all stopwords\n",
    "    3. Returns a list of the cleaned text\n",
    "    \"\"\"\n",
    "    # Check characters to see if they are in punctuation\n",
    "    nopunc = [char for char in mess if char not in string.punctuation]\n",
    "\n",
    "    # Join the characters again to form the string.\n",
    "    nopunc = ''.join(nopunc)\n",
    "    \n",
    "    # Now just remove any stopwords\n",
    "    return [word for word in nopunc.split() if word.lower() not in stopwords.words('english')]"
   ]
  },
  {
   "cell_type": "code",
   "execution_count": 20,
   "id": "c31a4c58-e26e-47c9-9f91-b003bc877d3a",
   "metadata": {},
   "outputs": [
    {
     "data": {
      "text/html": [
       "<div>\n",
       "<style scoped>\n",
       "    .dataframe tbody tr th:only-of-type {\n",
       "        vertical-align: middle;\n",
       "    }\n",
       "\n",
       "    .dataframe tbody tr th {\n",
       "        vertical-align: top;\n",
       "    }\n",
       "\n",
       "    .dataframe thead th {\n",
       "        text-align: right;\n",
       "    }\n",
       "</style>\n",
       "<table border=\"1\" class=\"dataframe\">\n",
       "  <thead>\n",
       "    <tr style=\"text-align: right;\">\n",
       "      <th></th>\n",
       "      <th>Review</th>\n",
       "      <th>Sentiment</th>\n",
       "      <th>length</th>\n",
       "    </tr>\n",
       "  </thead>\n",
       "  <tbody>\n",
       "    <tr>\n",
       "      <th>0</th>\n",
       "      <td>Ive flown with them dozens of times and never ...</td>\n",
       "      <td>Positive</td>\n",
       "      <td>66</td>\n",
       "    </tr>\n",
       "    <tr>\n",
       "      <th>1</th>\n",
       "      <td>Ive flown AirAsia Thai AirAsia and AirAsia Phi...</td>\n",
       "      <td>Positive</td>\n",
       "      <td>77</td>\n",
       "    </tr>\n",
       "    <tr>\n",
       "      <th>2</th>\n",
       "      <td>I have flown with them several times and never...</td>\n",
       "      <td>Positive</td>\n",
       "      <td>155</td>\n",
       "    </tr>\n",
       "    <tr>\n",
       "      <th>3</th>\n",
       "      <td>Within Thailand I have good experiences with t...</td>\n",
       "      <td>Negative</td>\n",
       "      <td>164</td>\n",
       "    </tr>\n",
       "    <tr>\n",
       "      <th>4</th>\n",
       "      <td>Same experience with AirAsia Japan</td>\n",
       "      <td>Negative</td>\n",
       "      <td>34</td>\n",
       "    </tr>\n",
       "  </tbody>\n",
       "</table>\n",
       "</div>"
      ],
      "text/plain": [
       "                                              Review Sentiment  length\n",
       "0  Ive flown with them dozens of times and never ...  Positive      66\n",
       "1  Ive flown AirAsia Thai AirAsia and AirAsia Phi...  Positive      77\n",
       "2  I have flown with them several times and never...  Positive     155\n",
       "3  Within Thailand I have good experiences with t...  Negative     164\n",
       "4                 Same experience with AirAsia Japan  Negative      34"
      ]
     },
     "execution_count": 20,
     "metadata": {},
     "output_type": "execute_result"
    }
   ],
   "source": [
    "df.head()"
   ]
  },
  {
   "cell_type": "code",
   "execution_count": 21,
   "id": "a8253f35-ed1f-41d0-b2fd-5aaea7790ffd",
   "metadata": {},
   "outputs": [
    {
     "data": {
      "text/plain": [
       "0    [Ive, flown, dozens, times, never, major, issues]\n",
       "1    [Ive, flown, AirAsia, Thai, AirAsia, AirAsia, ...\n",
       "2    [flown, several, times, never, problems, weigh...\n",
       "3    [Within, Thailand, good, experiences, flew, ai...\n",
       "4                         [experience, AirAsia, Japan]\n",
       "Name: Review, dtype: object"
      ]
     },
     "execution_count": 21,
     "metadata": {},
     "output_type": "execute_result"
    }
   ],
   "source": [
    "df['Review'].head(5).apply(text_process)"
   ]
  },
  {
   "cell_type": "markdown",
   "id": "7faf7f5a-72fa-48b2-acf5-e6cb3bba31f0",
   "metadata": {
    "jp-MarkdownHeadingCollapsed": true
   },
   "source": [
    "## Vectorisation"
   ]
  },
  {
   "cell_type": "code",
   "execution_count": 22,
   "id": "0fb385ae-7049-445f-aff3-3c3c94dae29e",
   "metadata": {},
   "outputs": [],
   "source": [
    "from sklearn.feature_extraction.text import CountVectorizer"
   ]
  },
  {
   "cell_type": "code",
   "execution_count": 24,
   "id": "5d2f2460-8eaf-40a7-bb7c-9fd1630ae08b",
   "metadata": {},
   "outputs": [
    {
     "name": "stdout",
     "output_type": "stream",
     "text": [
      "4897\n"
     ]
    }
   ],
   "source": [
    "bow_transformer = CountVectorizer(analyzer=text_process).fit(df['Review'])\n",
    "print(len(bow_transformer.vocabulary_))"
   ]
  },
  {
   "cell_type": "code",
   "execution_count": 26,
   "id": "460effe7-592d-4399-8dd1-6765c013f85d",
   "metadata": {},
   "outputs": [
    {
     "name": "stdout",
     "output_type": "stream",
     "text": [
      "Within Thailand I have good experiences with them I flew air Asia x to Japan and it was really bad Cabin staff was honestly nice but ground staff was awful and rude\n"
     ]
    }
   ],
   "source": [
    "review4=df['Review'][3]\n",
    "print(review4)"
   ]
  },
  {
   "cell_type": "code",
   "execution_count": 27,
   "id": "22487502-e38d-475a-84c1-05fa70f76ea2",
   "metadata": {},
   "outputs": [
    {
     "name": "stdout",
     "output_type": "stream",
     "text": [
      "  (0, 282)\t1\n",
      "  (0, 375)\t1\n",
      "  (0, 670)\t1\n",
      "  (0, 1096)\t1\n",
      "  (0, 1190)\t1\n",
      "  (0, 1303)\t1\n",
      "  (0, 1470)\t1\n",
      "  (0, 1480)\t1\n",
      "  (0, 2372)\t1\n",
      "  (0, 2488)\t1\n",
      "  (0, 2627)\t1\n",
      "  (0, 2646)\t1\n",
      "  (0, 2751)\t1\n",
      "  (0, 3331)\t1\n",
      "  (0, 3769)\t1\n",
      "  (0, 3964)\t1\n",
      "  (0, 4257)\t2\n",
      "  (0, 4850)\t1\n",
      "(1, 4897)\n"
     ]
    }
   ],
   "source": [
    "bow4 = bow_transformer.transform([review4])\n",
    "print(bow4)\n",
    "print(bow4.shape)"
   ]
  },
  {
   "cell_type": "code",
   "execution_count": 28,
   "id": "06ec9a62-6bc5-44f1-8d40-277f877b83ae",
   "metadata": {},
   "outputs": [
    {
     "name": "stdout",
     "output_type": "stream",
     "text": [
      "Shape of Sparse Matrix:  (994, 4897)\n",
      "Amount of Non-Zero occurences:  20605\n"
     ]
    }
   ],
   "source": [
    "reviews_bow = bow_transformer.transform(df['Review'])\n",
    "print('Shape of Sparse Matrix: ', reviews_bow.shape)\n",
    "print('Amount of Non-Zero occurences: ', reviews_bow.nnz)"
   ]
  },
  {
   "cell_type": "markdown",
   "id": "c9251232-b199-4d6c-898c-14ec1be35c4e",
   "metadata": {
    "jp-MarkdownHeadingCollapsed": true
   },
   "source": [
    "## TF_IDF"
   ]
  },
  {
   "cell_type": "code",
   "execution_count": 29,
   "id": "99cc8a10-99e2-4958-961c-5ba6b0ee19ae",
   "metadata": {},
   "outputs": [
    {
     "name": "stdout",
     "output_type": "stream",
     "text": [
      "  (0, 4850)\t0.29180137401287054\n",
      "  (0, 4257)\t0.36811768683643614\n",
      "  (0, 3964)\t0.24468637853069258\n",
      "  (0, 3769)\t0.17289636405650702\n",
      "  (0, 3331)\t0.2497376120277759\n",
      "  (0, 2751)\t0.23234886903468882\n",
      "  (0, 2646)\t0.22277915320273503\n",
      "  (0, 2627)\t0.1598939433027906\n",
      "  (0, 2488)\t0.16946365913474434\n",
      "  (0, 2372)\t0.220011359538685\n",
      "  (0, 1480)\t0.1678451305594237\n",
      "  (0, 1470)\t0.25546422825547216\n",
      "  (0, 1303)\t0.15795891205808238\n",
      "  (0, 1190)\t0.30919011700595767\n",
      "  (0, 1096)\t0.20444782463925193\n",
      "  (0, 670)\t0.23608043173069188\n",
      "  (0, 375)\t0.30919011700595767\n",
      "  (0, 282)\t0.11741978663520111\n"
     ]
    }
   ],
   "source": [
    "from sklearn.feature_extraction.text import TfidfTransformer\n",
    "\n",
    "tfidf_transformer = TfidfTransformer().fit(reviews_bow)\n",
    "tfidf4 = tfidf_transformer.transform(bow4)\n",
    "print(tfidf4)"
   ]
  },
  {
   "cell_type": "code",
   "execution_count": 33,
   "id": "a5e5bd43-f57e-4f0a-bdf6-c82d62adeb0f",
   "metadata": {},
   "outputs": [
    {
     "name": "stdout",
     "output_type": "stream",
     "text": [
      "5.956832588103279\n",
      "2.7379567632350787\n"
     ]
    }
   ],
   "source": [
    "print(tfidf_transformer.idf_[bow_transformer.vocabulary_['awful']])\n",
    "print(tfidf_transformer.idf_[bow_transformer.vocabulary_['Asia']])"
   ]
  },
  {
   "cell_type": "code",
   "execution_count": 34,
   "id": "63af3671-f1a7-4403-b1f7-b60c3ef69dd4",
   "metadata": {},
   "outputs": [
    {
     "name": "stdout",
     "output_type": "stream",
     "text": [
      "(994, 4897)\n"
     ]
    }
   ],
   "source": [
    "reviews_tfidf = tfidf_transformer.transform(reviews_bow)\n",
    "print(reviews_tfidf.shape)"
   ]
  },
  {
   "cell_type": "markdown",
   "id": "de95648a-5513-4130-b270-fcb5ded4c9f8",
   "metadata": {
    "jp-MarkdownHeadingCollapsed": true
   },
   "source": [
    "## Naive Bayes"
   ]
  },
  {
   "cell_type": "code",
   "execution_count": 39,
   "id": "a1417512-1332-497a-a462-129cefbe3cc4",
   "metadata": {},
   "outputs": [
    {
     "name": "stdout",
     "output_type": "stream",
     "text": [
      "predicted: Negative\n",
      "expected: Negative\n"
     ]
    }
   ],
   "source": [
    "from sklearn.naive_bayes import MultinomialNB\n",
    "review_detect_model = MultinomialNB().fit(reviews_tfidf, df['Sentiment'])\n",
    "print('predicted:', spam_detect_model.predict(tfidf4)[0])\n",
    "print('expected:', df['Sentiment'][3])"
   ]
  },
  {
   "cell_type": "code",
   "execution_count": 40,
   "id": "c77a64d2-c81a-468d-a6f1-60a2c7693961",
   "metadata": {},
   "outputs": [
    {
     "name": "stdout",
     "output_type": "stream",
     "text": [
      "['Positive' 'Negative' 'Positive' 'Negative' 'Negative' 'Negative'\n",
      " 'Positive' 'Negative' 'Negative' 'Positive' 'Negative' 'Negative'\n",
      " 'Positive' 'Negative' 'Negative' 'Positive' 'Negative' 'Negative'\n",
      " 'Negative' 'Negative' 'Negative' 'Negative' 'Negative' 'Negative'\n",
      " 'Negative' 'Negative' 'Negative' 'Positive' 'Negative' 'Negative'\n",
      " 'Neutral' 'Negative' 'Negative' 'Negative' 'Positive' 'Negative'\n",
      " 'Negative' 'Negative' 'Negative' 'Negative' 'Negative' 'Neutral'\n",
      " 'Negative' 'Negative' 'Negative' 'Negative' 'Negative' 'Negative'\n",
      " 'Negative' 'Negative' 'Negative' 'Negative' 'Negative' 'Negative'\n",
      " 'Negative' 'Negative' 'Negative' 'Negative' 'Negative' 'Negative'\n",
      " 'Negative' 'Negative' 'Negative' 'Negative' 'Negative' 'Negative'\n",
      " 'Negative' 'Negative' 'Negative' 'Negative' 'Negative' 'Negative'\n",
      " 'Negative' 'Negative' 'Negative' 'Negative' 'Negative' 'Negative'\n",
      " 'Negative' 'Negative' 'Negative' 'Negative' 'Negative' 'Negative'\n",
      " 'Negative' 'Negative' 'Negative' 'Negative' 'Negative' 'Negative'\n",
      " 'Negative' 'Negative' 'Negative' 'Negative' 'Negative' 'Negative'\n",
      " 'Negative' 'Positive' 'Negative' 'Negative' 'Negative' 'Negative'\n",
      " 'Negative' 'Negative' 'Negative' 'Negative' 'Negative' 'Negative'\n",
      " 'Negative' 'Negative' 'Negative' 'Neutral' 'Negative' 'Negative'\n",
      " 'Negative' 'Negative' 'Negative' 'Negative' 'Positive' 'Negative'\n",
      " 'Negative' 'Negative' 'Negative' 'Negative' 'Negative' 'Negative'\n",
      " 'Negative' 'Negative' 'Positive' 'Negative' 'Negative' 'Negative'\n",
      " 'Negative' 'Neutral' 'Negative' 'Negative' 'Negative' 'Negative'\n",
      " 'Negative' 'Negative' 'Negative' 'Neutral' 'Negative' 'Positive'\n",
      " 'Negative' 'Negative' 'Negative' 'Negative' 'Negative' 'Positive'\n",
      " 'Negative' 'Negative' 'Negative' 'Negative' 'Negative' 'Negative'\n",
      " 'Negative' 'Negative' 'Negative' 'Negative' 'Negative' 'Negative'\n",
      " 'Negative' 'Negative' 'Negative' 'Negative' 'Negative' 'Negative'\n",
      " 'Neutral' 'Neutral' 'Negative' 'Negative' 'Negative' 'Negative'\n",
      " 'Negative' 'Negative' 'Negative' 'Negative' 'Negative' 'Negative'\n",
      " 'Negative' 'Neutral' 'Negative' 'Negative' 'Negative' 'Negative'\n",
      " 'Negative' 'Neutral' 'Negative' 'Positive' 'Neutral' 'Negative'\n",
      " 'Negative' 'Negative' 'Negative' 'Negative' 'Negative' 'Negative'\n",
      " 'Negative' 'Negative' 'Negative' 'Neutral' 'Negative' 'Negative'\n",
      " 'Negative' 'Negative' 'Negative' 'Negative' 'Negative' 'Negative'\n",
      " 'Negative' 'Negative' 'Negative' 'Negative' 'Negative' 'Negative'\n",
      " 'Negative' 'Negative' 'Negative' 'Negative' 'Negative' 'Negative'\n",
      " 'Negative' 'Negative' 'Negative' 'Negative' 'Negative' 'Negative'\n",
      " 'Negative' 'Negative' 'Negative' 'Negative' 'Negative' 'Negative'\n",
      " 'Negative' 'Negative' 'Negative' 'Negative' 'Negative' 'Negative'\n",
      " 'Negative' 'Negative' 'Negative' 'Negative' 'Negative' 'Negative'\n",
      " 'Negative' 'Negative' 'Negative' 'Negative' 'Negative' 'Negative'\n",
      " 'Negative' 'Negative' 'Negative' 'Negative' 'Negative' 'Negative'\n",
      " 'Negative' 'Negative' 'Negative' 'Negative' 'Negative' 'Positive'\n",
      " 'Negative' 'Negative' 'Negative' 'Negative' 'Negative' 'Negative'\n",
      " 'Negative' 'Negative' 'Negative' 'Negative' 'Negative' 'Negative'\n",
      " 'Negative' 'Negative' 'Negative' 'Negative' 'Negative' 'Negative'\n",
      " 'Neutral' 'Neutral' 'Negative' 'Negative' 'Negative' 'Negative'\n",
      " 'Negative' 'Negative' 'Negative' 'Negative' 'Negative' 'Negative'\n",
      " 'Negative' 'Negative' 'Negative' 'Negative' 'Negative' 'Negative'\n",
      " 'Negative' 'Negative' 'Negative' 'Negative' 'Negative' 'Negative'\n",
      " 'Negative' 'Negative' 'Negative' 'Negative' 'Negative' 'Negative'\n",
      " 'Negative' 'Negative' 'Negative' 'Negative' 'Negative' 'Negative'\n",
      " 'Negative' 'Negative' 'Negative' 'Negative' 'Negative' 'Negative'\n",
      " 'Negative' 'Negative' 'Negative' 'Negative' 'Negative' 'Negative'\n",
      " 'Negative' 'Negative' 'Negative' 'Negative' 'Neutral' 'Negative'\n",
      " 'Negative' 'Neutral' 'Positive' 'Negative' 'Negative' 'Negative'\n",
      " 'Neutral' 'Negative' 'Negative' 'Neutral' 'Negative' 'Negative'\n",
      " 'Negative' 'Negative' 'Negative' 'Neutral' 'Negative' 'Negative'\n",
      " 'Negative' 'Negative' 'Negative' 'Negative' 'Negative' 'Negative'\n",
      " 'Negative' 'Negative' 'Negative' 'Negative' 'Negative' 'Negative'\n",
      " 'Negative' 'Negative' 'Negative' 'Negative' 'Negative' 'Negative'\n",
      " 'Negative' 'Negative' 'Negative' 'Negative' 'Negative' 'Negative'\n",
      " 'Negative' 'Negative' 'Positive' 'Negative' 'Neutral' 'Negative'\n",
      " 'Negative' 'Negative' 'Negative' 'Negative' 'Positive' 'Negative'\n",
      " 'Negative' 'Negative' 'Negative' 'Negative' 'Negative' 'Negative'\n",
      " 'Negative' 'Negative' 'Negative' 'Negative' 'Negative' 'Negative'\n",
      " 'Negative' 'Negative' 'Negative' 'Negative' 'Negative' 'Negative'\n",
      " 'Negative' 'Negative' 'Negative' 'Negative' 'Negative' 'Negative'\n",
      " 'Negative' 'Positive' 'Negative' 'Negative' 'Negative' 'Negative'\n",
      " 'Negative' 'Negative' 'Negative' 'Positive' 'Negative' 'Positive'\n",
      " 'Positive' 'Positive' 'Positive' 'Positive' 'Negative' 'Negative'\n",
      " 'Negative' 'Positive' 'Negative' 'Negative' 'Negative' 'Negative'\n",
      " 'Negative' 'Negative' 'Negative' 'Negative' 'Negative' 'Negative'\n",
      " 'Negative' 'Negative' 'Negative' 'Negative' 'Negative' 'Negative'\n",
      " 'Negative' 'Negative' 'Negative' 'Negative' 'Negative' 'Negative'\n",
      " 'Negative' 'Negative' 'Negative' 'Positive' 'Negative' 'Neutral'\n",
      " 'Negative' 'Negative' 'Negative' 'Neutral' 'Negative' 'Negative'\n",
      " 'Negative' 'Negative' 'Negative' 'Negative' 'Negative' 'Negative'\n",
      " 'Negative' 'Negative' 'Negative' 'Negative' 'Negative' 'Negative'\n",
      " 'Negative' 'Negative' 'Negative' 'Negative' 'Negative' 'Negative'\n",
      " 'Negative' 'Negative' 'Negative' 'Negative' 'Negative' 'Neutral'\n",
      " 'Negative' 'Negative' 'Negative' 'Negative' 'Negative' 'Negative'\n",
      " 'Negative' 'Negative' 'Negative' 'Negative' 'Negative' 'Negative'\n",
      " 'Negative' 'Negative' 'Negative' 'Neutral' 'Negative' 'Negative'\n",
      " 'Negative' 'Negative' 'Negative' 'Negative' 'Negative' 'Negative'\n",
      " 'Negative' 'Neutral' 'Negative' 'Negative' 'Negative' 'Negative'\n",
      " 'Negative' 'Negative' 'Negative' 'Negative' 'Neutral' 'Negative'\n",
      " 'Negative' 'Negative' 'Negative' 'Negative' 'Negative' 'Negative'\n",
      " 'Negative' 'Negative' 'Negative' 'Neutral' 'Negative' 'Negative'\n",
      " 'Neutral' 'Neutral' 'Negative' 'Neutral' 'Negative' 'Negative' 'Negative'\n",
      " 'Negative' 'Negative' 'Negative' 'Neutral' 'Negative' 'Negative'\n",
      " 'Negative' 'Negative' 'Negative' 'Negative' 'Negative' 'Negative'\n",
      " 'Neutral' 'Negative' 'Neutral' 'Negative' 'Positive' 'Negative'\n",
      " 'Negative' 'Negative' 'Negative' 'Negative' 'Positive' 'Negative'\n",
      " 'Negative' 'Negative' 'Negative' 'Negative' 'Negative' 'Negative'\n",
      " 'Negative' 'Negative' 'Negative' 'Negative' 'Negative' 'Negative'\n",
      " 'Negative' 'Negative' 'Negative' 'Positive' 'Negative' 'Negative'\n",
      " 'Negative' 'Positive' 'Negative' 'Negative' 'Negative' 'Neutral'\n",
      " 'Negative' 'Negative' 'Neutral' 'Negative' 'Negative' 'Negative'\n",
      " 'Negative' 'Negative' 'Neutral' 'Neutral' 'Negative' 'Negative'\n",
      " 'Negative' 'Negative' 'Negative' 'Negative' 'Negative' 'Negative'\n",
      " 'Negative' 'Negative' 'Negative' 'Negative' 'Negative' 'Negative'\n",
      " 'Positive' 'Negative' 'Neutral' 'Negative' 'Negative' 'Negative'\n",
      " 'Negative' 'Negative' 'Negative' 'Negative' 'Positive' 'Negative'\n",
      " 'Negative' 'Negative' 'Neutral' 'Negative' 'Negative' 'Negative'\n",
      " 'Negative' 'Negative' 'Negative' 'Negative' 'Negative' 'Negative'\n",
      " 'Negative' 'Negative' 'Negative' 'Neutral' 'Negative' 'Negative'\n",
      " 'Negative' 'Negative' 'Negative' 'Negative' 'Negative' 'Negative'\n",
      " 'Negative' 'Negative' 'Negative' 'Negative' 'Negative' 'Negative'\n",
      " 'Negative' 'Negative' 'Negative' 'Negative' 'Negative' 'Negative'\n",
      " 'Negative' 'Negative' 'Negative' 'Negative' 'Negative' 'Neutral'\n",
      " 'Negative' 'Negative' 'Negative' 'Negative' 'Negative' 'Negative'\n",
      " 'Negative' 'Negative' 'Negative' 'Neutral' 'Negative' 'Negative'\n",
      " 'Negative' 'Negative' 'Negative' 'Negative' 'Negative' 'Negative'\n",
      " 'Negative' 'Negative' 'Negative' 'Negative' 'Negative' 'Negative'\n",
      " 'Negative' 'Negative' 'Negative' 'Negative' 'Negative' 'Negative'\n",
      " 'Negative' 'Negative' 'Negative' 'Negative' 'Negative' 'Negative'\n",
      " 'Negative' 'Negative' 'Negative' 'Negative' 'Negative' 'Negative'\n",
      " 'Negative' 'Negative' 'Negative' 'Negative' 'Negative' 'Negative'\n",
      " 'Negative' 'Negative' 'Negative' 'Negative' 'Negative' 'Negative'\n",
      " 'Negative' 'Negative' 'Negative' 'Negative' 'Negative' 'Negative'\n",
      " 'Negative' 'Negative' 'Positive' 'Negative' 'Negative' 'Negative'\n",
      " 'Positive' 'Negative' 'Negative' 'Negative' 'Negative' 'Positive'\n",
      " 'Negative' 'Negative' 'Positive' 'Negative' 'Negative' 'Negative'\n",
      " 'Negative' 'Negative' 'Negative' 'Negative' 'Negative' 'Negative'\n",
      " 'Negative' 'Negative' 'Negative' 'Negative' 'Negative' 'Negative'\n",
      " 'Neutral' 'Negative' 'Negative' 'Negative' 'Negative' 'Negative'\n",
      " 'Neutral' 'Negative' 'Negative' 'Negative' 'Negative' 'Negative'\n",
      " 'Negative' 'Negative' 'Negative' 'Negative' 'Negative' 'Negative'\n",
      " 'Negative' 'Negative' 'Neutral' 'Negative' 'Negative' 'Negative'\n",
      " 'Negative' 'Negative' 'Negative' 'Negative' 'Negative' 'Negative'\n",
      " 'Positive' 'Negative' 'Negative' 'Negative' 'Negative' 'Negative'\n",
      " 'Negative' 'Negative' 'Negative' 'Negative' 'Neutral' 'Neutral' 'Neutral'\n",
      " 'Negative' 'Negative' 'Negative' 'Neutral' 'Negative' 'Negative'\n",
      " 'Negative' 'Negative' 'Positive' 'Negative' 'Negative' 'Negative'\n",
      " 'Negative' 'Negative' 'Negative' 'Negative' 'Negative' 'Negative'\n",
      " 'Negative' 'Negative' 'Negative' 'Negative' 'Negative' 'Negative'\n",
      " 'Negative' 'Negative' 'Negative' 'Negative' 'Negative' 'Negative'\n",
      " 'Negative' 'Negative' 'Negative' 'Negative' 'Negative' 'Neutral'\n",
      " 'Negative' 'Negative' 'Negative' 'Negative' 'Negative' 'Negative'\n",
      " 'Negative' 'Negative' 'Negative' 'Negative' 'Negative' 'Negative'\n",
      " 'Negative' 'Negative' 'Neutral' 'Negative' 'Negative' 'Negative'\n",
      " 'Negative' 'Negative' 'Negative' 'Negative' 'Negative' 'Negative'\n",
      " 'Negative' 'Negative' 'Negative' 'Negative' 'Negative' 'Negative'\n",
      " 'Negative' 'Negative' 'Negative' 'Negative' 'Negative' 'Negative'\n",
      " 'Negative' 'Negative' 'Negative' 'Negative' 'Negative' 'Negative'\n",
      " 'Negative' 'Negative' 'Negative' 'Negative' 'Negative' 'Negative'\n",
      " 'Negative' 'Negative' 'Negative' 'Negative' 'Negative' 'Negative'\n",
      " 'Negative' 'Negative' 'Negative' 'Negative' 'Negative' 'Negative'\n",
      " 'Negative' 'Negative' 'Negative' 'Negative' 'Negative' 'Negative'\n",
      " 'Negative' 'Negative' 'Negative' 'Negative' 'Negative' 'Negative'\n",
      " 'Neutral' 'Negative' 'Negative' 'Negative' 'Negative' 'Negative'\n",
      " 'Negative' 'Negative' 'Negative' 'Negative' 'Positive' 'Negative'\n",
      " 'Negative' 'Negative' 'Negative' 'Negative' 'Negative' 'Positive'\n",
      " 'Negative' 'Negative' 'Negative' 'Positive' 'Negative' 'Negative'\n",
      " 'Negative' 'Positive' 'Negative' 'Negative' 'Negative' 'Negative'\n",
      " 'Negative' 'Negative' 'Negative' 'Negative' 'Negative' 'Negative'\n",
      " 'Negative' 'Negative' 'Negative' 'Positive' 'Negative' 'Negative'\n",
      " 'Negative' 'Negative' 'Negative' 'Negative' 'Negative' 'Positive'\n",
      " 'Neutral' 'Negative' 'Negative' 'Positive' 'Negative' 'Negative'\n",
      " 'Negative' 'Negative' 'Negative' 'Negative' 'Negative' 'Negative'\n",
      " 'Negative' 'Negative' 'Negative' 'Negative' 'Neutral' 'Negative'\n",
      " 'Negative' 'Negative' 'Negative' 'Negative' 'Negative' 'Neutral'\n",
      " 'Negative' 'Negative' 'Negative' 'Negative' 'Negative' 'Neutral'\n",
      " 'Neutral' 'Neutral']\n"
     ]
    }
   ],
   "source": [
    "all_predictions = review_detect_model.predict(reviews_tfidf)\n",
    "print(all_predictions)"
   ]
  },
  {
   "cell_type": "markdown",
   "id": "63f55772-4829-4b10-b99e-b7a090d6ee6d",
   "metadata": {},
   "source": [
    "**Model Evalution**"
   ]
  },
  {
   "cell_type": "code",
   "execution_count": 53,
   "id": "dd21eeb0-9e91-4ca3-b005-da03efad84af",
   "metadata": {},
   "outputs": [
    {
     "name": "stdout",
     "output_type": "stream",
     "text": [
      "              precision    recall  f1-score   support\n",
      "\n",
      "    Negative       0.60      1.00      0.75       533\n",
      "     Neutral       0.96      0.21      0.34       263\n",
      "    Positive       1.00      0.23      0.38       198\n",
      "\n",
      "    accuracy                           0.64       994\n",
      "   macro avg       0.85      0.48      0.49       994\n",
      "weighted avg       0.78      0.64      0.57       994\n",
      "\n"
     ]
    }
   ],
   "source": [
    "from sklearn.metrics import classification_report\n",
    "print (classification_report(df['Sentiment'], all_predictions))"
   ]
  },
  {
   "cell_type": "markdown",
   "id": "bd8293e3-28bf-4fc7-98b4-3282b72d15cf",
   "metadata": {
    "jp-MarkdownHeadingCollapsed": true
   },
   "source": [
    "## Trying KFOLD"
   ]
  },
  {
   "cell_type": "code",
   "execution_count": 50,
   "id": "8975aa29-3299-4043-aae9-1bdc66f42b3c",
   "metadata": {},
   "outputs": [
    {
     "name": "stdout",
     "output_type": "stream",
     "text": [
      "\n",
      "🔹 Fold 1 Classification Report:\n",
      "\n",
      "              precision    recall  f1-score   support\n",
      "\n",
      "    Negative       0.57      1.00      0.73       113\n",
      "     Neutral       0.00      0.00      0.00        50\n",
      "    Positive       0.00      0.00      0.00        36\n",
      "\n",
      "    accuracy                           0.57       199\n",
      "   macro avg       0.19      0.33      0.24       199\n",
      "weighted avg       0.32      0.57      0.41       199\n",
      "\n"
     ]
    },
    {
     "name": "stderr",
     "output_type": "stream",
     "text": [
      "C:\\Users\\Athin Suresh\\anaconda3\\Lib\\site-packages\\sklearn\\metrics\\_classification.py:1509: UndefinedMetricWarning: Precision is ill-defined and being set to 0.0 in labels with no predicted samples. Use `zero_division` parameter to control this behavior.\n",
      "  _warn_prf(average, modifier, f\"{metric.capitalize()} is\", len(result))\n",
      "C:\\Users\\Athin Suresh\\anaconda3\\Lib\\site-packages\\sklearn\\metrics\\_classification.py:1509: UndefinedMetricWarning: Precision is ill-defined and being set to 0.0 in labels with no predicted samples. Use `zero_division` parameter to control this behavior.\n",
      "  _warn_prf(average, modifier, f\"{metric.capitalize()} is\", len(result))\n",
      "C:\\Users\\Athin Suresh\\anaconda3\\Lib\\site-packages\\sklearn\\metrics\\_classification.py:1509: UndefinedMetricWarning: Precision is ill-defined and being set to 0.0 in labels with no predicted samples. Use `zero_division` parameter to control this behavior.\n",
      "  _warn_prf(average, modifier, f\"{metric.capitalize()} is\", len(result))\n"
     ]
    },
    {
     "name": "stdout",
     "output_type": "stream",
     "text": [
      "\n",
      "🔹 Fold 2 Classification Report:\n",
      "\n",
      "              precision    recall  f1-score   support\n",
      "\n",
      "    Negative       0.48      1.00      0.65        96\n",
      "     Neutral       1.00      0.02      0.04        56\n",
      "    Positive       0.00      0.00      0.00        47\n",
      "\n",
      "    accuracy                           0.49       199\n",
      "   macro avg       0.49      0.34      0.23       199\n",
      "weighted avg       0.52      0.49      0.32       199\n",
      "\n"
     ]
    },
    {
     "name": "stderr",
     "output_type": "stream",
     "text": [
      "C:\\Users\\Athin Suresh\\anaconda3\\Lib\\site-packages\\sklearn\\metrics\\_classification.py:1509: UndefinedMetricWarning: Precision is ill-defined and being set to 0.0 in labels with no predicted samples. Use `zero_division` parameter to control this behavior.\n",
      "  _warn_prf(average, modifier, f\"{metric.capitalize()} is\", len(result))\n",
      "C:\\Users\\Athin Suresh\\anaconda3\\Lib\\site-packages\\sklearn\\metrics\\_classification.py:1509: UndefinedMetricWarning: Precision is ill-defined and being set to 0.0 in labels with no predicted samples. Use `zero_division` parameter to control this behavior.\n",
      "  _warn_prf(average, modifier, f\"{metric.capitalize()} is\", len(result))\n",
      "C:\\Users\\Athin Suresh\\anaconda3\\Lib\\site-packages\\sklearn\\metrics\\_classification.py:1509: UndefinedMetricWarning: Precision is ill-defined and being set to 0.0 in labels with no predicted samples. Use `zero_division` parameter to control this behavior.\n",
      "  _warn_prf(average, modifier, f\"{metric.capitalize()} is\", len(result))\n"
     ]
    },
    {
     "name": "stdout",
     "output_type": "stream",
     "text": [
      "\n",
      "🔹 Fold 3 Classification Report:\n",
      "\n",
      "              precision    recall  f1-score   support\n",
      "\n",
      "    Negative       0.55      1.00      0.71       109\n",
      "     Neutral       0.00      0.00      0.00        53\n",
      "    Positive       1.00      0.03      0.05        37\n",
      "\n",
      "    accuracy                           0.55       199\n",
      "   macro avg       0.52      0.34      0.26       199\n",
      "weighted avg       0.49      0.55      0.40       199\n",
      "\n",
      "\n",
      "🔹 Fold 4 Classification Report:\n",
      "\n",
      "              precision    recall  f1-score   support\n",
      "\n",
      "    Negative       0.57      1.00      0.73       113\n",
      "     Neutral       0.00      0.00      0.00        44\n",
      "    Positive       1.00      0.02      0.05        42\n",
      "\n",
      "    accuracy                           0.57       199\n",
      "   macro avg       0.52      0.34      0.26       199\n",
      "weighted avg       0.54      0.57      0.42       199\n",
      "\n"
     ]
    },
    {
     "name": "stderr",
     "output_type": "stream",
     "text": [
      "C:\\Users\\Athin Suresh\\anaconda3\\Lib\\site-packages\\sklearn\\metrics\\_classification.py:1509: UndefinedMetricWarning: Precision is ill-defined and being set to 0.0 in labels with no predicted samples. Use `zero_division` parameter to control this behavior.\n",
      "  _warn_prf(average, modifier, f\"{metric.capitalize()} is\", len(result))\n",
      "C:\\Users\\Athin Suresh\\anaconda3\\Lib\\site-packages\\sklearn\\metrics\\_classification.py:1509: UndefinedMetricWarning: Precision is ill-defined and being set to 0.0 in labels with no predicted samples. Use `zero_division` parameter to control this behavior.\n",
      "  _warn_prf(average, modifier, f\"{metric.capitalize()} is\", len(result))\n",
      "C:\\Users\\Athin Suresh\\anaconda3\\Lib\\site-packages\\sklearn\\metrics\\_classification.py:1509: UndefinedMetricWarning: Precision is ill-defined and being set to 0.0 in labels with no predicted samples. Use `zero_division` parameter to control this behavior.\n",
      "  _warn_prf(average, modifier, f\"{metric.capitalize()} is\", len(result))\n"
     ]
    },
    {
     "name": "stdout",
     "output_type": "stream",
     "text": [
      "\n",
      "🔹 Fold 5 Classification Report:\n",
      "\n",
      "              precision    recall  f1-score   support\n",
      "\n",
      "    Negative       0.52      1.00      0.68       102\n",
      "     Neutral       0.00      0.00      0.00        60\n",
      "    Positive       1.00      0.03      0.05        36\n",
      "\n",
      "    accuracy                           0.52       198\n",
      "   macro avg       0.51      0.34      0.25       198\n",
      "weighted avg       0.45      0.52      0.36       198\n",
      "\n"
     ]
    },
    {
     "name": "stderr",
     "output_type": "stream",
     "text": [
      "C:\\Users\\Athin Suresh\\anaconda3\\Lib\\site-packages\\sklearn\\metrics\\_classification.py:1509: UndefinedMetricWarning: Precision is ill-defined and being set to 0.0 in labels with no predicted samples. Use `zero_division` parameter to control this behavior.\n",
      "  _warn_prf(average, modifier, f\"{metric.capitalize()} is\", len(result))\n",
      "C:\\Users\\Athin Suresh\\anaconda3\\Lib\\site-packages\\sklearn\\metrics\\_classification.py:1509: UndefinedMetricWarning: Precision is ill-defined and being set to 0.0 in labels with no predicted samples. Use `zero_division` parameter to control this behavior.\n",
      "  _warn_prf(average, modifier, f\"{metric.capitalize()} is\", len(result))\n",
      "C:\\Users\\Athin Suresh\\anaconda3\\Lib\\site-packages\\sklearn\\metrics\\_classification.py:1509: UndefinedMetricWarning: Precision is ill-defined and being set to 0.0 in labels with no predicted samples. Use `zero_division` parameter to control this behavior.\n",
      "  _warn_prf(average, modifier, f\"{metric.capitalize()} is\", len(result))\n"
     ]
    }
   ],
   "source": [
    "from sklearn.model_selection import KFold\n",
    "from sklearn.pipeline import Pipeline\n",
    "from sklearn.feature_extraction.text import CountVectorizer, TfidfTransformer\n",
    "from sklearn.naive_bayes import MultinomialNB\n",
    "from sklearn.metrics import classification_report\n",
    "\n",
    "# Define K-Fold (5 splits)\n",
    "kf = KFold(n_splits=5, shuffle=True, random_state=42)\n",
    "\n",
    "# Define the pipeline\n",
    "pipeline = Pipeline([\n",
    "    ('bow', CountVectorizer(analyzer=text_process)),  # Convert text to BoW\n",
    "    ('tfidf', TfidfTransformer()),  # Convert BoW to TF-IDF\n",
    "    ('classifier', MultinomialNB()),  # Train Naïve Bayes classifier\n",
    "])\n",
    "\n",
    "# Loop through each fold\n",
    "fold_number = 1\n",
    "for train_index, test_index in kf.split(df):\n",
    "    rev_train, rev_test = df['Review'].iloc[train_index], df['Review'].iloc[test_index]\n",
    "    sent_train, sent_test = df['Sentiment'].iloc[train_index], df['Sentiment'].iloc[test_index]\n",
    "\n",
    "    # Train the pipeline on this fold\n",
    "    pipeline.fit(rev_train, sent_train)\n",
    "\n",
    "    # Predict on the test set of this fold\n",
    "    predictions = pipeline.predict(rev_test)\n",
    "\n",
    "    # Print classification report for this fold\n",
    "    print(f\"\\n🔹 Fold {fold_number} Classification Report:\\n\")\n",
    "    print(classification_report(sent_test, predictions))\n",
    "\n",
    "    fold_number += 1  # Move to the next fold\n"
   ]
  },
  {
   "cell_type": "markdown",
   "id": "99aeba5a-b2fc-43d1-bec4-131db0e3323a",
   "metadata": {
    "jp-MarkdownHeadingCollapsed": true
   },
   "source": [
    "## Stratified KFOLD"
   ]
  },
  {
   "cell_type": "code",
   "execution_count": 51,
   "id": "85018b6c-f383-404a-8dd2-ab036009cb5a",
   "metadata": {},
   "outputs": [
    {
     "name": "stdout",
     "output_type": "stream",
     "text": [
      "\n",
      "🔹 Fold 1 Classification Report:\n",
      "\n",
      "              precision    recall  f1-score   support\n",
      "\n",
      "    Negative       0.54      1.00      0.70       107\n",
      "     Neutral       0.00      0.00      0.00        52\n",
      "    Positive       1.00      0.05      0.10        40\n",
      "\n",
      "    accuracy                           0.55       199\n",
      "   macro avg       0.51      0.35      0.27       199\n",
      "weighted avg       0.49      0.55      0.40       199\n",
      "\n"
     ]
    },
    {
     "name": "stderr",
     "output_type": "stream",
     "text": [
      "C:\\Users\\Athin Suresh\\anaconda3\\Lib\\site-packages\\sklearn\\metrics\\_classification.py:1509: UndefinedMetricWarning: Precision is ill-defined and being set to 0.0 in labels with no predicted samples. Use `zero_division` parameter to control this behavior.\n",
      "  _warn_prf(average, modifier, f\"{metric.capitalize()} is\", len(result))\n",
      "C:\\Users\\Athin Suresh\\anaconda3\\Lib\\site-packages\\sklearn\\metrics\\_classification.py:1509: UndefinedMetricWarning: Precision is ill-defined and being set to 0.0 in labels with no predicted samples. Use `zero_division` parameter to control this behavior.\n",
      "  _warn_prf(average, modifier, f\"{metric.capitalize()} is\", len(result))\n",
      "C:\\Users\\Athin Suresh\\anaconda3\\Lib\\site-packages\\sklearn\\metrics\\_classification.py:1509: UndefinedMetricWarning: Precision is ill-defined and being set to 0.0 in labels with no predicted samples. Use `zero_division` parameter to control this behavior.\n",
      "  _warn_prf(average, modifier, f\"{metric.capitalize()} is\", len(result))\n"
     ]
    },
    {
     "name": "stdout",
     "output_type": "stream",
     "text": [
      "\n",
      "🔹 Fold 2 Classification Report:\n",
      "\n",
      "              precision    recall  f1-score   support\n",
      "\n",
      "    Negative       0.54      1.00      0.70       106\n",
      "     Neutral       0.00      0.00      0.00        53\n",
      "    Positive       1.00      0.03      0.05        40\n",
      "\n",
      "    accuracy                           0.54       199\n",
      "   macro avg       0.51      0.34      0.25       199\n",
      "weighted avg       0.49      0.54      0.38       199\n",
      "\n"
     ]
    },
    {
     "name": "stderr",
     "output_type": "stream",
     "text": [
      "C:\\Users\\Athin Suresh\\anaconda3\\Lib\\site-packages\\sklearn\\metrics\\_classification.py:1509: UndefinedMetricWarning: Precision is ill-defined and being set to 0.0 in labels with no predicted samples. Use `zero_division` parameter to control this behavior.\n",
      "  _warn_prf(average, modifier, f\"{metric.capitalize()} is\", len(result))\n",
      "C:\\Users\\Athin Suresh\\anaconda3\\Lib\\site-packages\\sklearn\\metrics\\_classification.py:1509: UndefinedMetricWarning: Precision is ill-defined and being set to 0.0 in labels with no predicted samples. Use `zero_division` parameter to control this behavior.\n",
      "  _warn_prf(average, modifier, f\"{metric.capitalize()} is\", len(result))\n",
      "C:\\Users\\Athin Suresh\\anaconda3\\Lib\\site-packages\\sklearn\\metrics\\_classification.py:1509: UndefinedMetricWarning: Precision is ill-defined and being set to 0.0 in labels with no predicted samples. Use `zero_division` parameter to control this behavior.\n",
      "  _warn_prf(average, modifier, f\"{metric.capitalize()} is\", len(result))\n"
     ]
    },
    {
     "name": "stdout",
     "output_type": "stream",
     "text": [
      "\n",
      "🔹 Fold 3 Classification Report:\n",
      "\n",
      "              precision    recall  f1-score   support\n",
      "\n",
      "    Negative       0.54      1.00      0.70       106\n",
      "     Neutral       0.00      0.00      0.00        53\n",
      "    Positive       0.00      0.00      0.00        40\n",
      "\n",
      "    accuracy                           0.53       199\n",
      "   macro avg       0.18      0.33      0.23       199\n",
      "weighted avg       0.29      0.53      0.37       199\n",
      "\n"
     ]
    },
    {
     "name": "stderr",
     "output_type": "stream",
     "text": [
      "C:\\Users\\Athin Suresh\\anaconda3\\Lib\\site-packages\\sklearn\\metrics\\_classification.py:1509: UndefinedMetricWarning: Precision is ill-defined and being set to 0.0 in labels with no predicted samples. Use `zero_division` parameter to control this behavior.\n",
      "  _warn_prf(average, modifier, f\"{metric.capitalize()} is\", len(result))\n",
      "C:\\Users\\Athin Suresh\\anaconda3\\Lib\\site-packages\\sklearn\\metrics\\_classification.py:1509: UndefinedMetricWarning: Precision is ill-defined and being set to 0.0 in labels with no predicted samples. Use `zero_division` parameter to control this behavior.\n",
      "  _warn_prf(average, modifier, f\"{metric.capitalize()} is\", len(result))\n",
      "C:\\Users\\Athin Suresh\\anaconda3\\Lib\\site-packages\\sklearn\\metrics\\_classification.py:1509: UndefinedMetricWarning: Precision is ill-defined and being set to 0.0 in labels with no predicted samples. Use `zero_division` parameter to control this behavior.\n",
      "  _warn_prf(average, modifier, f\"{metric.capitalize()} is\", len(result))\n"
     ]
    },
    {
     "name": "stdout",
     "output_type": "stream",
     "text": [
      "\n",
      "🔹 Fold 4 Classification Report:\n",
      "\n",
      "              precision    recall  f1-score   support\n",
      "\n",
      "    Negative       0.54      1.00      0.70       107\n",
      "     Neutral       0.00      0.00      0.00        53\n",
      "    Positive       0.00      0.00      0.00        39\n",
      "\n",
      "    accuracy                           0.54       199\n",
      "   macro avg       0.18      0.33      0.23       199\n",
      "weighted avg       0.29      0.54      0.38       199\n",
      "\n"
     ]
    },
    {
     "name": "stderr",
     "output_type": "stream",
     "text": [
      "C:\\Users\\Athin Suresh\\anaconda3\\Lib\\site-packages\\sklearn\\metrics\\_classification.py:1509: UndefinedMetricWarning: Precision is ill-defined and being set to 0.0 in labels with no predicted samples. Use `zero_division` parameter to control this behavior.\n",
      "  _warn_prf(average, modifier, f\"{metric.capitalize()} is\", len(result))\n",
      "C:\\Users\\Athin Suresh\\anaconda3\\Lib\\site-packages\\sklearn\\metrics\\_classification.py:1509: UndefinedMetricWarning: Precision is ill-defined and being set to 0.0 in labels with no predicted samples. Use `zero_division` parameter to control this behavior.\n",
      "  _warn_prf(average, modifier, f\"{metric.capitalize()} is\", len(result))\n",
      "C:\\Users\\Athin Suresh\\anaconda3\\Lib\\site-packages\\sklearn\\metrics\\_classification.py:1509: UndefinedMetricWarning: Precision is ill-defined and being set to 0.0 in labels with no predicted samples. Use `zero_division` parameter to control this behavior.\n",
      "  _warn_prf(average, modifier, f\"{metric.capitalize()} is\", len(result))\n"
     ]
    },
    {
     "name": "stdout",
     "output_type": "stream",
     "text": [
      "\n",
      "🔹 Fold 5 Classification Report:\n",
      "\n",
      "              precision    recall  f1-score   support\n",
      "\n",
      "    Negative       0.54      1.00      0.70       107\n",
      "     Neutral       0.00      0.00      0.00        52\n",
      "    Positive       1.00      0.03      0.05        39\n",
      "\n",
      "    accuracy                           0.55       198\n",
      "   macro avg       0.51      0.34      0.25       198\n",
      "weighted avg       0.49      0.55      0.39       198\n",
      "\n"
     ]
    },
    {
     "name": "stderr",
     "output_type": "stream",
     "text": [
      "C:\\Users\\Athin Suresh\\anaconda3\\Lib\\site-packages\\sklearn\\metrics\\_classification.py:1509: UndefinedMetricWarning: Precision is ill-defined and being set to 0.0 in labels with no predicted samples. Use `zero_division` parameter to control this behavior.\n",
      "  _warn_prf(average, modifier, f\"{metric.capitalize()} is\", len(result))\n",
      "C:\\Users\\Athin Suresh\\anaconda3\\Lib\\site-packages\\sklearn\\metrics\\_classification.py:1509: UndefinedMetricWarning: Precision is ill-defined and being set to 0.0 in labels with no predicted samples. Use `zero_division` parameter to control this behavior.\n",
      "  _warn_prf(average, modifier, f\"{metric.capitalize()} is\", len(result))\n",
      "C:\\Users\\Athin Suresh\\anaconda3\\Lib\\site-packages\\sklearn\\metrics\\_classification.py:1509: UndefinedMetricWarning: Precision is ill-defined and being set to 0.0 in labels with no predicted samples. Use `zero_division` parameter to control this behavior.\n",
      "  _warn_prf(average, modifier, f\"{metric.capitalize()} is\", len(result))\n"
     ]
    }
   ],
   "source": [
    "from sklearn.model_selection import StratifiedKFold\n",
    "from sklearn.pipeline import Pipeline\n",
    "from sklearn.feature_extraction.text import CountVectorizer, TfidfTransformer\n",
    "from sklearn.naive_bayes import MultinomialNB\n",
    "from sklearn.metrics import classification_report\n",
    "\n",
    "# Use Stratified K-Fold to maintain class distribution\n",
    "kf = StratifiedKFold(n_splits=5, shuffle=True, random_state=42)\n",
    "\n",
    "# Define the pipeline\n",
    "pipeline = Pipeline([\n",
    "    ('bow', CountVectorizer(analyzer=text_process)),  # Convert text to BoW\n",
    "    ('tfidf', TfidfTransformer()),  # Convert BoW to TF-IDF\n",
    "    ('classifier', MultinomialNB()),  # Train Naïve Bayes classifier\n",
    "])\n",
    "\n",
    "# Loop through each fold\n",
    "fold_number = 1\n",
    "for train_index, test_index in kf.split(df['Review'], df['Sentiment']):  \n",
    "    rev_train, rev_test = df['Review'].iloc[train_index], df['Review'].iloc[test_index]\n",
    "    sent_train, sent_test = df['Sentiment'].iloc[train_index], df['Sentiment'].iloc[test_index]\n",
    "\n",
    "    # Train the model\n",
    "    pipeline.fit(rev_train, sent_train)\n",
    "\n",
    "    # Make predictions\n",
    "    predictions = pipeline.predict(rev_test)\n",
    "\n",
    "    # Print classification report\n",
    "    print(f\"\\n🔹 Fold {fold_number} Classification Report:\\n\")\n",
    "    print(classification_report(sent_test, predictions))\n",
    "\n",
    "    fold_number += 1\n"
   ]
  },
  {
   "cell_type": "code",
   "execution_count": null,
   "id": "b2c08f05-c5ce-476b-9f56-245f263e7b2a",
   "metadata": {},
   "outputs": [],
   "source": []
  }
 ],
 "metadata": {
  "kernelspec": {
   "display_name": "Python 3 (ipykernel)",
   "language": "python",
   "name": "python3"
  },
  "language_info": {
   "codemirror_mode": {
    "name": "ipython",
    "version": 3
   },
   "file_extension": ".py",
   "mimetype": "text/x-python",
   "name": "python",
   "nbconvert_exporter": "python",
   "pygments_lexer": "ipython3",
   "version": "3.12.4"
  }
 },
 "nbformat": 4,
 "nbformat_minor": 5
}
