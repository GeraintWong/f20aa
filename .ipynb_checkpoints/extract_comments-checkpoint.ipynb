{
 "cells": [
  {
   "cell_type": "code",
   "execution_count": 1,
   "id": "69a803db-e7ad-43db-8119-fb0eb327dfe9",
   "metadata": {},
   "outputs": [
    {
     "name": "stdout",
     "output_type": "stream",
     "text": [
      "Requirement already satisfied: asyncpraw in c:\\users\\athin suresh\\anaconda3\\lib\\site-packages (7.8.1)\n",
      "Requirement already satisfied: aiofiles in c:\\users\\athin suresh\\anaconda3\\lib\\site-packages (from asyncpraw) (24.1.0)\n",
      "Requirement already satisfied: aiohttp<4 in c:\\users\\athin suresh\\anaconda3\\lib\\site-packages (from asyncpraw) (3.9.5)\n",
      "Requirement already satisfied: aiosqlite<=0.17.0 in c:\\users\\athin suresh\\anaconda3\\lib\\site-packages (from asyncpraw) (0.17.0)\n",
      "Requirement already satisfied: asyncprawcore<3,>=2.4 in c:\\users\\athin suresh\\anaconda3\\lib\\site-packages (from asyncpraw) (2.4.0)\n",
      "Requirement already satisfied: update_checker>=0.18 in c:\\users\\athin suresh\\anaconda3\\lib\\site-packages (from asyncpraw) (0.18.0)\n",
      "Requirement already satisfied: aiosignal>=1.1.2 in c:\\users\\athin suresh\\anaconda3\\lib\\site-packages (from aiohttp<4->asyncpraw) (1.2.0)\n",
      "Requirement already satisfied: attrs>=17.3.0 in c:\\users\\athin suresh\\anaconda3\\lib\\site-packages (from aiohttp<4->asyncpraw) (25.1.0)\n",
      "Requirement already satisfied: frozenlist>=1.1.1 in c:\\users\\athin suresh\\anaconda3\\lib\\site-packages (from aiohttp<4->asyncpraw) (1.4.0)\n",
      "Requirement already satisfied: multidict<7.0,>=4.5 in c:\\users\\athin suresh\\anaconda3\\lib\\site-packages (from aiohttp<4->asyncpraw) (6.0.4)\n",
      "Requirement already satisfied: yarl<2.0,>=1.0 in c:\\users\\athin suresh\\anaconda3\\lib\\site-packages (from aiohttp<4->asyncpraw) (1.9.3)\n",
      "Requirement already satisfied: typing_extensions>=3.7.2 in c:\\users\\athin suresh\\anaconda3\\lib\\site-packages (from aiosqlite<=0.17.0->asyncpraw) (4.11.0)\n",
      "Requirement already satisfied: requests>=2.3.0 in c:\\users\\athin suresh\\anaconda3\\lib\\site-packages (from update_checker>=0.18->asyncpraw) (2.32.2)\n",
      "Requirement already satisfied: charset-normalizer<4,>=2 in c:\\users\\athin suresh\\anaconda3\\lib\\site-packages (from requests>=2.3.0->update_checker>=0.18->asyncpraw) (2.0.4)\n",
      "Requirement already satisfied: idna<4,>=2.5 in c:\\users\\athin suresh\\anaconda3\\lib\\site-packages (from requests>=2.3.0->update_checker>=0.18->asyncpraw) (3.7)\n",
      "Requirement already satisfied: urllib3<3,>=1.21.1 in c:\\users\\athin suresh\\anaconda3\\lib\\site-packages (from requests>=2.3.0->update_checker>=0.18->asyncpraw) (2.2.2)\n",
      "Requirement already satisfied: certifi>=2017.4.17 in c:\\users\\athin suresh\\anaconda3\\lib\\site-packages (from requests>=2.3.0->update_checker>=0.18->asyncpraw) (2024.6.2)\n",
      "Note: you may need to restart the kernel to use updated packages.\n"
     ]
    }
   ],
   "source": [
    "pip install asyncpraw\n"
   ]
  },
  {
   "cell_type": "code",
   "execution_count": 2,
   "id": "16d44fbc-dfa0-4edd-8f14-21c8b37a466f",
   "metadata": {},
   "outputs": [],
   "source": [
    "import pandas as pd\n"
   ]
  },
  {
   "cell_type": "code",
   "execution_count": 3,
   "id": "4637e57c-2117-4318-9aff-9c5986477456",
   "metadata": {},
   "outputs": [],
   "source": [
    "review_keywords = (\n",
    "    r\"(good service|bad service|friendly staff|rude crew|helpful|unhelpful|\"\n",
    "    r\"flew|fly|flown|took a flight|onboard|aircraft|seating|legroom|\"\n",
    "    r\"on time|delayed|canceled|missed flight|\"\n",
    "    r\"comfortable|cramped|smooth flight|bumpy|turbulence|\"\n",
    "    r\"cheap ticket|expensive|affordable|overpriced|\"\n",
    "    r\"baggage|lost luggage|extra charge|carry-on|\"\n",
    "    r\"good experience|bad experience|would recommend|never again|worst airline)\"\n",
    ")\n",
    "unrelated_keywords = (\n",
    "    r\"(Thai Airways|other airline|different airline|another airline|better airline|\\?$\"\n",
    "    r\"|but people here aren't really shy about checking stuff|Cathay Pacific|IATA|hand carry rule|\"\n",
    "    r\"OP|That’s a great itinerary|scoot|Fernandes|Maayos|Thanks|pyramid scheme)\"\n",
    ")"
   ]
  },
  {
   "cell_type": "code",
   "execution_count": 4,
   "id": "bb509b42-e693-40a4-a9b6-75e9532d8076",
   "metadata": {},
   "outputs": [],
   "source": [
    "import asyncpraw\n",
    "\n",
    "reddit = asyncpraw.Reddit(\n",
    "    client_id=\"\",\n",
    "    client_secret=\"\",\n",
    "    user_agent=\"\",\n",
    "    username=\"\",\n",
    "    password=\"\"\n",
    "    )\n",
    "    "
   ]
  },
  {
   "cell_type": "code",
   "execution_count": 5,
   "id": "478c9ea2-0b23-4689-92b1-a8f10b955e06",
   "metadata": {},
   "outputs": [],
   "source": [
    "import re\n",
    "import asyncio\n",
    "import asyncpraw\n",
    "\n",
    "async def getAirAsiaReviews(url, unrelatedKeywords):\n",
    "    \n",
    "\n",
    "    try:\n",
    "        submission = await reddit.submission(url=url)\n",
    "        await submission.comments.replace_more(limit=None)  # Load all comments\n",
    "\n",
    "        airasia_reviews = []\n",
    "        total_comments = 0  # Counter for all comments & subcomments\n",
    "\n",
    "        async def process_comment(comment):\n",
    "            \"\"\" Recursively process a comment and its replies \"\"\"\n",
    "            nonlocal total_comments\n",
    "            total_comments += 1  # Count this comment\n",
    "\n",
    "            comment_text = comment.body.strip()\n",
    "\n",
    "            # Check comment conditions\n",
    "            if len(comment_text.split()) > 1 and not any(re.search(keyword, comment_text, re.IGNORECASE) for keyword in unrelatedKeywords):\n",
    "                airasia_reviews.append(comment_text)\n",
    "\n",
    "            # Fetch and process replies\n",
    "            await comment.replies.replace_more(limit=None)  # Ensure all replies are loaded\n",
    "            for reply in comment.replies:\n",
    "                await process_comment(reply)  # Recursively process each reply\n",
    "\n",
    "        # Process all top-level comments\n",
    "        for top_comment in submission.comments:\n",
    "            await process_comment(top_comment)\n",
    "\n",
    "        return airasia_reviews, total_comments  # Return reviews & total count\n",
    "\n",
    "    except asyncpraw.exceptions.APIException as e:\n",
    "        print(f\"API Error: {e}\")\n",
    "    except Exception as e:\n",
    "        print(f\"An error occurred: {e.__class__.__name__}: {e}\")\n",
    "    return [], 0"
   ]
  },
  {
   "cell_type": "code",
   "execution_count": 6,
   "id": "14eef706-e6e5-40b5-8a64-a6d4f1744711",
   "metadata": {},
   "outputs": [],
   "source": [
    "async def processUrls(urls_with_keywords):\n",
    "    all_reviews = []\n",
    "    total_comments_count = 0  # Initialize counter\n",
    "\n",
    "    # Create tasks with corresponding keywords for each URL\n",
    "    tasks = [getAirAsiaReviews(url, keywords) for url, keywords in urls_with_keywords]\n",
    "\n",
    "    results = await asyncio.gather(*tasks)  # Get results\n",
    "\n",
    "    for reviews, count in results:\n",
    "        all_reviews.extend(reviews)\n",
    "        total_comments_count += count  # Add count from each URL\n",
    "\n",
    "    print(f\"Total Comments (including subcomments): {total_comments_count}\")  \n",
    "    print(f\"Filtered Comments: {len(all_reviews)}\")  \n",
    "\n",
    "    for review in all_reviews:\n",
    "        print(\"-\" * 20)\n",
    "        print(review)"
   ]
  },
  {
   "cell_type": "code",
   "execution_count": 75,
   "id": "a8542fd8-1216-4eb2-bfb0-f7f3bda419b9",
   "metadata": {},
   "outputs": [],
   "source": [
    "urls_with_keywords = [\n",
    "   (\"https://www.reddit.com/r/malaysia/comments/11qssb9/airasia_now_offers_10_million_free_seats_for/\", [\"literally\", \"lmao\", \"hilarious\", \"sun\", \"cancellation\", \"oxymoron\", \"often\", \"mcmc\", \"kite\", \"headaches\"])\n",
    "    ]"
   ]
  },
  {
   "cell_type": "code",
   "execution_count": 76,
   "id": "86ac31f3-205e-4b66-8c66-f399ffe956aa",
   "metadata": {},
   "outputs": [
    {
     "name": "stdout",
     "output_type": "stream",
     "text": [
      "Total Comments (including subcomments): 22\n",
      "Filtered Comments: 11\n",
      "--------------------\n",
      "I wouldn’t fly air Asia even if they paid me to do so. The subsequent headache that comes with it just isn’t worth it.\n",
      "--------------------\n",
      "And canceled it last minute, makes you buy new ticket since you already paid for the vacation accommodation, attractions, transportation.\n",
      "--------------------\n",
      "I don't even need to read the article to know there's a catch. It's either not free or subject to extremely inconvenient terms.\n",
      "\n",
      "All I know is, if I was in a room with a cobra, a crocodile and AirAsia and I had a gun with 2 bullets, I'd shoot AirAsia twice.\n",
      "\n",
      "Edit: Yea it's not free. It's one of those free seats\\* but you pay all the taxes. Those seats were going to be empty anyway, so they give those out, you help cover the taxes, and then they will try to get you with excess baggage fees, food and merch sales onboard.\n",
      "--------------------\n",
      "Do not trust AirAsia, countless vacations has been ruined because of their shitty business practices.\n",
      "--------------------\n",
      "Their business model is to shift flights and not return you your money. Contacting AirAsia (customer support) is extremely tedious and lengthy, and they’ll do anything to stretch the case for as long as possible. 90% of people will give up after a few weeks, giving AirAsia a profit margin of around 99% on that sale. \n",
      "\n",
      "Unless you actually go to their office and threaten to sue them, you will never see your money again. It’s your right to get a refund so they know they won’t win the case if it goes the court, meaning they’ll lose tens of thousands in legal fees in the process. It’s not worth it. The few, that really demand a refund, will get it. \n",
      "\n",
      "But as others have stated, they constantly shift things around and majority of people give up trying to receive a refund, giving AirAsia millions in pure profits.\n",
      "--------------------\n",
      "No thank you. Even if you pay me, i will never fly Air Asia again.\n",
      "--------------------\n",
      "• 1st rule of flying with AirAsia - never fly with AirAsia  \n",
      "• 2nd rule - Read 1st rule\n",
      "--------------------\n",
      "Remember nothing is free!\n",
      "--------------------\n",
      "Anyone knows if flying to Japan with AirAsia has problems too like flight delays and such?\n",
      "--------------------\n",
      "Free but delay and cancel. No thanks.\n",
      "--------------------\n",
      "so much bitterness over AA here. they weren't back to their best form post-pandemic but AA still consistently win the best low-cost airline award in the world. and their free tickets prior to pandemic are really win. I have travelled to Jakarta, Bandung, Vientiane, Cebu on free ticket and my cost are only the airport charges at rm60 to rm80 each trip (including return) and although I need to be flexible on the dates and booked more than one year in advance during its promotion.... so there...\n"
     ]
    }
   ],
   "source": [
    "await processUrls(urls_with_keywords)"
   ]
  },
  {
   "cell_type": "code",
   "execution_count": null,
   "id": "fa304659-4677-478d-8e44-d1309d241913",
   "metadata": {},
   "outputs": [],
   "source": []
  }
 ],
 "metadata": {
  "kernelspec": {
   "display_name": "Python 3 (ipykernel)",
   "language": "python",
   "name": "python3"
  },
  "language_info": {
   "codemirror_mode": {
    "name": "ipython",
    "version": 3
   },
   "file_extension": ".py",
   "mimetype": "text/x-python",
   "name": "python",
   "nbconvert_exporter": "python",
   "pygments_lexer": "ipython3",
   "version": "3.12.4"
  }
 },
 "nbformat": 4,
 "nbformat_minor": 5
}
