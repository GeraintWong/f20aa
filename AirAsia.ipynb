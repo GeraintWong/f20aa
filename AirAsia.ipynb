{
 "cells": [
  {
   "cell_type": "markdown",
   "id": "cb37a1ff-a9c2-483e-a2e4-57badfba2baf",
   "metadata": {},
   "source": [
    "# EDA"
   ]
  },
  {
   "cell_type": "code",
   "execution_count": 111,
   "id": "1020ab53-99c8-4fdd-9d7b-ff8ca4ed781d",
   "metadata": {},
   "outputs": [
    {
     "name": "stdout",
     "output_type": "stream",
     "text": [
      "Requirement already satisfied: wordcloud in /opt/anaconda3/lib/python3.12/site-packages (1.9.4)\n",
      "Requirement already satisfied: numpy>=1.6.1 in /opt/anaconda3/lib/python3.12/site-packages (from wordcloud) (1.26.4)\n",
      "Requirement already satisfied: pillow in /opt/anaconda3/lib/python3.12/site-packages (from wordcloud) (11.0.0)\n",
      "Requirement already satisfied: matplotlib in /opt/anaconda3/lib/python3.12/site-packages (from wordcloud) (3.9.2)\n",
      "Requirement already satisfied: contourpy>=1.0.1 in /opt/anaconda3/lib/python3.12/site-packages (from matplotlib->wordcloud) (1.2.0)\n",
      "Requirement already satisfied: cycler>=0.10 in /opt/anaconda3/lib/python3.12/site-packages (from matplotlib->wordcloud) (0.11.0)\n",
      "Requirement already satisfied: fonttools>=4.22.0 in /opt/anaconda3/lib/python3.12/site-packages (from matplotlib->wordcloud) (4.51.0)\n",
      "Requirement already satisfied: kiwisolver>=1.3.1 in /opt/anaconda3/lib/python3.12/site-packages (from matplotlib->wordcloud) (1.4.4)\n",
      "Requirement already satisfied: packaging>=20.0 in /opt/anaconda3/lib/python3.12/site-packages (from matplotlib->wordcloud) (23.2)\n",
      "Requirement already satisfied: pyparsing>=2.3.1 in /opt/anaconda3/lib/python3.12/site-packages (from matplotlib->wordcloud) (3.2.0)\n",
      "Requirement already satisfied: python-dateutil>=2.7 in /opt/anaconda3/lib/python3.12/site-packages (from matplotlib->wordcloud) (2.9.0.post0)\n",
      "Requirement already satisfied: six>=1.5 in /opt/anaconda3/lib/python3.12/site-packages (from python-dateutil>=2.7->matplotlib->wordcloud) (1.16.0)\n",
      "Requirement already satisfied: contractions in /opt/anaconda3/lib/python3.12/site-packages (0.1.73)\n",
      "Requirement already satisfied: textsearch>=0.0.21 in /opt/anaconda3/lib/python3.12/site-packages (from contractions) (0.0.24)\n",
      "Requirement already satisfied: anyascii in /opt/anaconda3/lib/python3.12/site-packages (from textsearch>=0.0.21->contractions) (0.3.2)\n",
      "Requirement already satisfied: pyahocorasick in /opt/anaconda3/lib/python3.12/site-packages (from textsearch>=0.0.21->contractions) (2.1.0)\n",
      "Requirement already satisfied: gensim in /opt/anaconda3/lib/python3.12/site-packages (4.3.3)\n",
      "Requirement already satisfied: numpy<2.0,>=1.18.5 in /opt/anaconda3/lib/python3.12/site-packages (from gensim) (1.26.4)\n",
      "Requirement already satisfied: scipy<1.14.0,>=1.7.0 in /opt/anaconda3/lib/python3.12/site-packages (from gensim) (1.13.1)\n",
      "Requirement already satisfied: smart-open>=1.8.1 in /opt/anaconda3/lib/python3.12/site-packages (from gensim) (7.1.0)\n",
      "Requirement already satisfied: wrapt in /opt/anaconda3/lib/python3.12/site-packages (from smart-open>=1.8.1->gensim) (1.16.0)\n",
      "Requirement already satisfied: xgboost in /opt/anaconda3/lib/python3.12/site-packages (2.1.4)\n",
      "Requirement already satisfied: numpy in /opt/anaconda3/lib/python3.12/site-packages (from xgboost) (1.26.4)\n",
      "Requirement already satisfied: scipy in /opt/anaconda3/lib/python3.12/site-packages (from xgboost) (1.13.1)\n",
      "Requirement already satisfied: pyLDAvis in /opt/anaconda3/lib/python3.12/site-packages (3.4.1)\n",
      "Requirement already satisfied: numpy>=1.24.2 in /opt/anaconda3/lib/python3.12/site-packages (from pyLDAvis) (1.26.4)\n",
      "Requirement already satisfied: scipy in /opt/anaconda3/lib/python3.12/site-packages (from pyLDAvis) (1.13.1)\n",
      "Requirement already satisfied: pandas>=2.0.0 in /opt/anaconda3/lib/python3.12/site-packages (from pyLDAvis) (2.2.2)\n",
      "Requirement already satisfied: joblib>=1.2.0 in /opt/anaconda3/lib/python3.12/site-packages (from pyLDAvis) (1.4.2)\n",
      "Requirement already satisfied: jinja2 in /opt/anaconda3/lib/python3.12/site-packages (from pyLDAvis) (3.1.4)\n",
      "Requirement already satisfied: numexpr in /opt/anaconda3/lib/python3.12/site-packages (from pyLDAvis) (2.10.1)\n",
      "Requirement already satisfied: funcy in /opt/anaconda3/lib/python3.12/site-packages (from pyLDAvis) (2.0)\n",
      "Requirement already satisfied: scikit-learn>=1.0.0 in /opt/anaconda3/lib/python3.12/site-packages (from pyLDAvis) (1.5.1)\n",
      "Requirement already satisfied: gensim in /opt/anaconda3/lib/python3.12/site-packages (from pyLDAvis) (4.3.3)\n",
      "Requirement already satisfied: setuptools in /opt/anaconda3/lib/python3.12/site-packages (from pyLDAvis) (75.1.0)\n",
      "Requirement already satisfied: python-dateutil>=2.8.2 in /opt/anaconda3/lib/python3.12/site-packages (from pandas>=2.0.0->pyLDAvis) (2.9.0.post0)\n",
      "Requirement already satisfied: pytz>=2020.1 in /opt/anaconda3/lib/python3.12/site-packages (from pandas>=2.0.0->pyLDAvis) (2024.1)\n",
      "Requirement already satisfied: tzdata>=2022.7 in /opt/anaconda3/lib/python3.12/site-packages (from pandas>=2.0.0->pyLDAvis) (2023.3)\n",
      "Requirement already satisfied: threadpoolctl>=3.1.0 in /opt/anaconda3/lib/python3.12/site-packages (from scikit-learn>=1.0.0->pyLDAvis) (3.5.0)\n",
      "Requirement already satisfied: smart-open>=1.8.1 in /opt/anaconda3/lib/python3.12/site-packages (from gensim->pyLDAvis) (7.1.0)\n",
      "Requirement already satisfied: MarkupSafe>=2.0 in /opt/anaconda3/lib/python3.12/site-packages (from jinja2->pyLDAvis) (2.1.5)\n",
      "Requirement already satisfied: six>=1.5 in /opt/anaconda3/lib/python3.12/site-packages (from python-dateutil>=2.8.2->pandas>=2.0.0->pyLDAvis) (1.16.0)\n",
      "Requirement already satisfied: wrapt in /opt/anaconda3/lib/python3.12/site-packages (from smart-open>=1.8.1->gensim->pyLDAvis) (1.16.0)\n",
      "Collecting imbalanced-learn\n",
      "  Downloading imbalanced_learn-0.13.0-py3-none-any.whl.metadata (8.8 kB)\n",
      "Requirement already satisfied: numpy<3,>=1.24.3 in /opt/anaconda3/lib/python3.12/site-packages (from imbalanced-learn) (1.26.4)\n",
      "Requirement already satisfied: scipy<2,>=1.10.1 in /opt/anaconda3/lib/python3.12/site-packages (from imbalanced-learn) (1.13.1)\n",
      "Requirement already satisfied: scikit-learn<2,>=1.3.2 in /opt/anaconda3/lib/python3.12/site-packages (from imbalanced-learn) (1.5.1)\n",
      "Collecting sklearn-compat<1,>=0.1 (from imbalanced-learn)\n",
      "  Downloading sklearn_compat-0.1.3-py3-none-any.whl.metadata (18 kB)\n",
      "Requirement already satisfied: joblib<2,>=1.1.1 in /opt/anaconda3/lib/python3.12/site-packages (from imbalanced-learn) (1.4.2)\n",
      "Requirement already satisfied: threadpoolctl<4,>=2.0.0 in /opt/anaconda3/lib/python3.12/site-packages (from imbalanced-learn) (3.5.0)\n",
      "Downloading imbalanced_learn-0.13.0-py3-none-any.whl (238 kB)\n",
      "Downloading sklearn_compat-0.1.3-py3-none-any.whl (18 kB)\n",
      "Installing collected packages: sklearn-compat, imbalanced-learn\n",
      "Successfully installed imbalanced-learn-0.13.0 sklearn-compat-0.1.3\n"
     ]
    }
   ],
   "source": [
    "!pip install wordcloud\n",
    "!pip install contractions\n",
    "!pip install gensim\n",
    "!pip install xgboost\n",
    "!pip install pyLDAvis\n",
    "!pip install imbalanced-learn"
   ]
  },
  {
   "cell_type": "code",
   "execution_count": 5,
   "id": "6eb32048-b8af-442d-8096-4a0f00ea41c4",
   "metadata": {},
   "outputs": [
    {
     "name": "stdout",
     "output_type": "stream",
     "text": [
      "Index(['Review', 'Sentiment'], dtype='object')\n",
      "Sentiment\n",
      "Negative    538\n",
      "Neutral     262\n",
      "Positive    200\n",
      "Name: count, dtype: int64\n"
     ]
    }
   ],
   "source": [
    "import pandas as pd\n",
    "data = './TripleA.csv'\n",
    "df = pd.read_csv(data)\n",
    "print(df.columns)\n",
    "print(df[\"Sentiment\"].value_counts())"
   ]
  },
  {
   "cell_type": "code",
   "execution_count": 7,
   "id": "5913935c-5f8f-429b-a075-611a79aee059",
   "metadata": {},
   "outputs": [
    {
     "name": "stdout",
     "output_type": "stream",
     "text": [
      "All sentiments are correctly labeled.\n"
     ]
    }
   ],
   "source": [
    "valid_sentiments = {\"Positive\", \"Neutral\", \"Negative\"}\n",
    "unique_sentiments = set(df[\"Sentiment\"].unique())\n",
    "\n",
    "# Find invalid sentiment labels\n",
    "invalid_sentiments = unique_sentiments - valid_sentiments\n",
    "\n",
    "if invalid_sentiments:\n",
    "    print(\"Unexpected sentiment labels found:\", invalid_sentiments)\n",
    "    invalid_rows = df[df[\"Sentiment\"].isin(invalid_sentiments)]\n",
    "    print(invalid_rows)\n",
    "else:\n",
    "    print(\"All sentiments are correctly labeled.\")"
   ]
  },
  {
   "cell_type": "code",
   "execution_count": 9,
   "id": "9eee860c-26d2-481d-a981-9150b2e1bdee",
   "metadata": {},
   "outputs": [
    {
     "data": {
      "text/html": [
       "<div>\n",
       "<style scoped>\n",
       "    .dataframe tbody tr th:only-of-type {\n",
       "        vertical-align: middle;\n",
       "    }\n",
       "\n",
       "    .dataframe tbody tr th {\n",
       "        vertical-align: top;\n",
       "    }\n",
       "\n",
       "    .dataframe thead th {\n",
       "        text-align: right;\n",
       "    }\n",
       "</style>\n",
       "<table border=\"1\" class=\"dataframe\">\n",
       "  <thead>\n",
       "    <tr style=\"text-align: right;\">\n",
       "      <th></th>\n",
       "      <th>Review</th>\n",
       "      <th>Sentiment</th>\n",
       "    </tr>\n",
       "  </thead>\n",
       "  <tbody>\n",
       "    <tr>\n",
       "      <th>count</th>\n",
       "      <td>1000</td>\n",
       "      <td>1000</td>\n",
       "    </tr>\n",
       "    <tr>\n",
       "      <th>unique</th>\n",
       "      <td>1000</td>\n",
       "      <td>3</td>\n",
       "    </tr>\n",
       "    <tr>\n",
       "      <th>top</th>\n",
       "      <td>Ive flown with them dozens of times and never ...</td>\n",
       "      <td>Negative</td>\n",
       "    </tr>\n",
       "    <tr>\n",
       "      <th>freq</th>\n",
       "      <td>1</td>\n",
       "      <td>538</td>\n",
       "    </tr>\n",
       "  </tbody>\n",
       "</table>\n",
       "</div>"
      ],
      "text/plain": [
       "                                                   Review Sentiment\n",
       "count                                                1000      1000\n",
       "unique                                               1000         3\n",
       "top     Ive flown with them dozens of times and never ...  Negative\n",
       "freq                                                    1       538"
      ]
     },
     "execution_count": 9,
     "metadata": {},
     "output_type": "execute_result"
    }
   ],
   "source": [
    "df.describe()"
   ]
  },
  {
   "cell_type": "code",
   "execution_count": 11,
   "id": "72d45f37-0af8-4723-80dc-d0e288a2a5c6",
   "metadata": {},
   "outputs": [
    {
     "data": {
      "text/html": [
       "<div>\n",
       "<style scoped>\n",
       "    .dataframe tbody tr th:only-of-type {\n",
       "        vertical-align: middle;\n",
       "    }\n",
       "\n",
       "    .dataframe tbody tr th {\n",
       "        vertical-align: top;\n",
       "    }\n",
       "\n",
       "    .dataframe thead tr th {\n",
       "        text-align: left;\n",
       "    }\n",
       "\n",
       "    .dataframe thead tr:last-of-type th {\n",
       "        text-align: right;\n",
       "    }\n",
       "</style>\n",
       "<table border=\"1\" class=\"dataframe\">\n",
       "  <thead>\n",
       "    <tr>\n",
       "      <th></th>\n",
       "      <th colspan=\"4\" halign=\"left\">Review</th>\n",
       "    </tr>\n",
       "    <tr>\n",
       "      <th></th>\n",
       "      <th>count</th>\n",
       "      <th>unique</th>\n",
       "      <th>top</th>\n",
       "      <th>freq</th>\n",
       "    </tr>\n",
       "    <tr>\n",
       "      <th>Sentiment</th>\n",
       "      <th></th>\n",
       "      <th></th>\n",
       "      <th></th>\n",
       "      <th></th>\n",
       "    </tr>\n",
       "  </thead>\n",
       "  <tbody>\n",
       "    <tr>\n",
       "      <th>Negative</th>\n",
       "      <td>538</td>\n",
       "      <td>538</td>\n",
       "      <td>Within Thailand I have good experiences with t...</td>\n",
       "      <td>1</td>\n",
       "    </tr>\n",
       "    <tr>\n",
       "      <th>Neutral</th>\n",
       "      <td>262</td>\n",
       "      <td>262</td>\n",
       "      <td>Thieving bass still owe me a 1000 usd I will n...</td>\n",
       "      <td>1</td>\n",
       "    </tr>\n",
       "    <tr>\n",
       "      <th>Positive</th>\n",
       "      <td>200</td>\n",
       "      <td>200</td>\n",
       "      <td>Ive flown with them dozens of times and never ...</td>\n",
       "      <td>1</td>\n",
       "    </tr>\n",
       "  </tbody>\n",
       "</table>\n",
       "</div>"
      ],
      "text/plain": [
       "          Review                                                            \\\n",
       "           count unique                                                top   \n",
       "Sentiment                                                                    \n",
       "Negative     538    538  Within Thailand I have good experiences with t...   \n",
       "Neutral      262    262  Thieving bass still owe me a 1000 usd I will n...   \n",
       "Positive     200    200  Ive flown with them dozens of times and never ...   \n",
       "\n",
       "                \n",
       "          freq  \n",
       "Sentiment       \n",
       "Negative     1  \n",
       "Neutral      1  \n",
       "Positive     1  "
      ]
     },
     "execution_count": 11,
     "metadata": {},
     "output_type": "execute_result"
    }
   ],
   "source": [
    "df.groupby('Sentiment').describe()"
   ]
  },
  {
   "cell_type": "code",
   "execution_count": 13,
   "id": "c2bbe3f8-3cb1-4952-b18d-ffbc9bd84a1f",
   "metadata": {},
   "outputs": [
    {
     "data": {
      "text/html": [
       "<div>\n",
       "<style scoped>\n",
       "    .dataframe tbody tr th:only-of-type {\n",
       "        vertical-align: middle;\n",
       "    }\n",
       "\n",
       "    .dataframe tbody tr th {\n",
       "        vertical-align: top;\n",
       "    }\n",
       "\n",
       "    .dataframe thead th {\n",
       "        text-align: right;\n",
       "    }\n",
       "</style>\n",
       "<table border=\"1\" class=\"dataframe\">\n",
       "  <thead>\n",
       "    <tr style=\"text-align: right;\">\n",
       "      <th></th>\n",
       "      <th>Review</th>\n",
       "      <th>Sentiment</th>\n",
       "      <th>length</th>\n",
       "    </tr>\n",
       "  </thead>\n",
       "  <tbody>\n",
       "    <tr>\n",
       "      <th>0</th>\n",
       "      <td>Ive flown with them dozens of times and never ...</td>\n",
       "      <td>Positive</td>\n",
       "      <td>66</td>\n",
       "    </tr>\n",
       "    <tr>\n",
       "      <th>1</th>\n",
       "      <td>Ive flown AirAsia Thai AirAsia and AirAsia Phi...</td>\n",
       "      <td>Positive</td>\n",
       "      <td>77</td>\n",
       "    </tr>\n",
       "    <tr>\n",
       "      <th>2</th>\n",
       "      <td>I have flown with them several times and never...</td>\n",
       "      <td>Positive</td>\n",
       "      <td>155</td>\n",
       "    </tr>\n",
       "    <tr>\n",
       "      <th>3</th>\n",
       "      <td>Within Thailand I have good experiences with t...</td>\n",
       "      <td>Negative</td>\n",
       "      <td>164</td>\n",
       "    </tr>\n",
       "    <tr>\n",
       "      <th>4</th>\n",
       "      <td>Same experience with AirAsia Japan</td>\n",
       "      <td>Negative</td>\n",
       "      <td>34</td>\n",
       "    </tr>\n",
       "  </tbody>\n",
       "</table>\n",
       "</div>"
      ],
      "text/plain": [
       "                                              Review Sentiment  length\n",
       "0  Ive flown with them dozens of times and never ...  Positive      66\n",
       "1  Ive flown AirAsia Thai AirAsia and AirAsia Phi...  Positive      77\n",
       "2  I have flown with them several times and never...  Positive     155\n",
       "3  Within Thailand I have good experiences with t...  Negative     164\n",
       "4                 Same experience with AirAsia Japan  Negative      34"
      ]
     },
     "execution_count": 13,
     "metadata": {},
     "output_type": "execute_result"
    }
   ],
   "source": [
    "df['length']=df['Review'].apply(len)\n",
    "df.head()"
   ]
  },
  {
   "cell_type": "code",
   "execution_count": 15,
   "id": "813ca33d-9f22-449b-954d-4e4edda6603a",
   "metadata": {},
   "outputs": [],
   "source": [
    "import matplotlib.pyplot as plt\n",
    "import seaborn as sns\n",
    "\n",
    "%matplotlib inline"
   ]
  },
  {
   "cell_type": "code",
   "execution_count": 16,
   "id": "a47e899b-493b-4f5a-bcb8-ad204bcdd876",
   "metadata": {},
   "outputs": [
    {
     "data": {
      "image/png": "[encoded data removed]",
      "text/plain": [
       "<Figure size 600x400 with 1 Axes>"
      ]
     },
     "metadata": {},
     "output_type": "display_data"
    }
   ],
   "source": [
    "import matplotlib.pyplot as plt\n",
    "\n",
    "# Count occurrences of each sentiment\n",
    "sentiment_counts = df['Sentiment'].value_counts()\n",
    "\n",
    "# Plot bar chart for sentiment distribution\n",
    "plt.figure(figsize=(6, 4))\n",
    "sentiment_counts.plot(kind='bar', color=['blue', 'red', 'green'])\n",
    "plt.xlabel('Sentiment')\n",
    "plt.ylabel('Frequency')\n",
    "plt.title('Frequency of Each Sentiment')\n",
    "plt.xticks(rotation=0)  # Keep labels horizontal\n",
    "plt.show()\n"
   ]
  },
  {
   "cell_type": "code",
   "execution_count": 17,
   "id": "b83fd28e-be97-44e2-ae3b-7b22cadc8c48",
   "metadata": {},
   "outputs": [
    {
     "data": {
      "image/png": "[encoded data removed]",
      "text/plain": [
       "<Figure size 800x500 with 1 Axes>"
      ]
     },
     "metadata": {},
     "output_type": "display_data"
    }
   ],
   "source": [
    "df['Review_Length'] = df['Review'].apply(lambda x: len(str(x)))\n",
    "\n",
    "# Histogram of review lengths\n",
    "plt.figure(figsize=(8, 5))\n",
    "sns.histplot(df['Review_Length'], bins=50, kde=True)\n",
    "plt.title('Distribution of Review Lengths')\n",
    "plt.xlabel('Number of Characters')\n",
    "plt.ylabel('Frequency')\n",
    "plt.show()\n"
   ]
  },
  {
   "cell_type": "code",
   "execution_count": 18,
   "id": "1deb2dd9-c8e0-48ad-a81a-bfb9cd48c508",
   "metadata": {},
   "outputs": [
    {
     "data": {
      "image/png": "[encoded data removed]",
      "text/plain": [
       "<Figure size 640x480 with 1 Axes>"
      ]
     },
     "metadata": {},
     "output_type": "display_data"
    }
   ],
   "source": [
    "df[df['Sentiment'] == 'Positive']['length'].plot(bins=50, kind='hist', alpha=0.5, label='Positive', color='blue')\n",
    "df[df['Sentiment'] == 'Negative']['length'].plot(bins=50, kind='hist', alpha=0.5, label='Negative', color='red')\n",
    "df[df['Sentiment'] == 'neutral']['length'].plot(bins=50, kind='hist', alpha=0.5, label='Neutral', color='green')\n",
    "\n",
    "plt.legend()\n",
    "plt.xlabel('Comment Length')\n",
    "plt.ylabel('Frequency')\n",
    "plt.title('Distribution of Comment Lengths by Sentiment')\n",
    "plt.show()\n"
   ]
  },
  {
   "cell_type": "code",
   "execution_count": 19,
   "id": "6bd4f974-8aa4-4e3d-974f-30530784403b",
   "metadata": {},
   "outputs": [
    {
     "data": {
      "image/png": "[encoded data removed]",
      "text/plain": [
       "<Figure size 640x480 with 1 Axes>"
      ]
     },
     "metadata": {},
     "output_type": "display_data"
    }
   ],
   "source": [
    "import seaborn as sns\n",
    "\n",
    "sns.boxplot(x='Sentiment', y='length', data=df)\n",
    "plt.title('Comment Length by Sentiment')\n",
    "plt.show()\n"
   ]
  },
  {
   "cell_type": "code",
   "execution_count": 20,
   "id": "e2d35016-a34d-4dba-bb67-8fc2ab054726",
   "metadata": {},
   "outputs": [
    {
     "name": "stdout",
     "output_type": "stream",
     "text": [
      "Top 10 Bigrams: [('air asia', 226), ('customer service', 57), ('budget airlines', 37), ('low cost', 36), ('budget airline', 26), ('credit card', 21), ('ive flown', 19), ('flight delayed', 18), ('pay extra', 15), ('customer support', 14)]\n",
      "Top 10 Trigrams: [('fly air asia', 13), ('flew air asia', 11), ('low cost airline', 11), ('low cost carrier', 9), ('flown air asia', 7), ('air asia flight', 6), ('air asia worst', 6), ('air asia thailand', 6), ('flying air asia', 5), ('flight delayed hours', 5)]\n"
     ]
    }
   ],
   "source": [
    "from sklearn.feature_extraction.text import CountVectorizer\n",
    "\n",
    "def get_top_ngrams(corpus, n=None, ngram_range=(2, 2)):\n",
    "    vec = CountVectorizer(stop_words='english', ngram_range=ngram_range).fit(corpus)\n",
    "    bag_of_words = vec.transform(corpus)\n",
    "    sum_words = bag_of_words.sum(axis=0)\n",
    "    words_freq = [(word, sum_words[0, idx]) for word, idx in vec.vocabulary_.items()]\n",
    "    words_freq = sorted(words_freq, key=lambda x: x[1], reverse=True)\n",
    "    return words_freq[:n]\n",
    "\n",
    "bigrams = get_top_ngrams(df['Review'].dropna(), n=10, ngram_range=(2, 2))\n",
    "trigrams = get_top_ngrams(df['Review'].dropna(), n=10, ngram_range=(3, 3))\n",
    "\n",
    "print(\"Top 10 Bigrams:\", bigrams)\n",
    "print(\"Top 10 Trigrams:\", trigrams)\n"
   ]
  },
  {
   "cell_type": "markdown",
   "id": "023bbe7d-3e53-4bca-8c7c-15b60db95ca5",
   "metadata": {},
   "source": [
    "# Text Preprocessing"
   ]
  },
  {
   "cell_type": "markdown",
   "id": "d3405892-d0ae-472c-9716-0e25062c8f6f",
   "metadata": {},
   "source": [
    "## Lowercasing\n",
    "Convert all text to lowercase to avoid case sensitivity issues."
   ]
  },
  {
   "cell_type": "code",
   "execution_count": 26,
   "id": "1101c5c2-f60b-4169-97d6-09d3ed94327d",
   "metadata": {},
   "outputs": [
    {
     "data": {
      "text/html": [
       "<div>\n",
       "<style scoped>\n",
       "    .dataframe tbody tr th:only-of-type {\n",
       "        vertical-align: middle;\n",
       "    }\n",
       "\n",
       "    .dataframe tbody tr th {\n",
       "        vertical-align: top;\n",
       "    }\n",
       "\n",
       "    .dataframe thead th {\n",
       "        text-align: right;\n",
       "    }\n",
       "</style>\n",
       "<table border=\"1\" class=\"dataframe\">\n",
       "  <thead>\n",
       "    <tr style=\"text-align: right;\">\n",
       "      <th></th>\n",
       "      <th>Review</th>\n",
       "      <th>Sentiment</th>\n",
       "      <th>length</th>\n",
       "      <th>Review_Length</th>\n",
       "    </tr>\n",
       "  </thead>\n",
       "  <tbody>\n",
       "    <tr>\n",
       "      <th>0</th>\n",
       "      <td>ive flown with them dozens of times and never ...</td>\n",
       "      <td>Positive</td>\n",
       "      <td>66</td>\n",
       "      <td>66</td>\n",
       "    </tr>\n",
       "    <tr>\n",
       "      <th>1</th>\n",
       "      <td>ive flown airasia thai airasia and airasia phi...</td>\n",
       "      <td>Positive</td>\n",
       "      <td>77</td>\n",
       "      <td>77</td>\n",
       "    </tr>\n",
       "    <tr>\n",
       "      <th>2</th>\n",
       "      <td>i have flown with them several times and never...</td>\n",
       "      <td>Positive</td>\n",
       "      <td>155</td>\n",
       "      <td>155</td>\n",
       "    </tr>\n",
       "    <tr>\n",
       "      <th>3</th>\n",
       "      <td>within thailand i have good experiences with t...</td>\n",
       "      <td>Negative</td>\n",
       "      <td>164</td>\n",
       "      <td>164</td>\n",
       "    </tr>\n",
       "    <tr>\n",
       "      <th>4</th>\n",
       "      <td>same experience with airasia japan</td>\n",
       "      <td>Negative</td>\n",
       "      <td>34</td>\n",
       "      <td>34</td>\n",
       "    </tr>\n",
       "  </tbody>\n",
       "</table>\n",
       "</div>"
      ],
      "text/plain": [
       "                                              Review Sentiment  length  \\\n",
       "0  ive flown with them dozens of times and never ...  Positive      66   \n",
       "1  ive flown airasia thai airasia and airasia phi...  Positive      77   \n",
       "2  i have flown with them several times and never...  Positive     155   \n",
       "3  within thailand i have good experiences with t...  Negative     164   \n",
       "4                 same experience with airasia japan  Negative      34   \n",
       "\n",
       "   Review_Length  \n",
       "0             66  \n",
       "1             77  \n",
       "2            155  \n",
       "3            164  \n",
       "4             34  "
      ]
     },
     "execution_count": 26,
     "metadata": {},
     "output_type": "execute_result"
    }
   ],
   "source": [
    "df['Review'] = df['Review'].str.lower()\n",
    "df.head()"
   ]
  },
  {
   "cell_type": "markdown",
   "id": "e18a47c1-6e8c-4647-a472-f4344f257472",
   "metadata": {},
   "source": [
    "## Removing Punctuation"
   ]
  },
  {
   "cell_type": "code",
   "execution_count": 30,
   "id": "946b493a-1db4-41a2-a868-19c4876f2bcf",
   "metadata": {},
   "outputs": [],
   "source": [
    "import string\n",
    "df['Review'] = df['Review'].str.translate(str.maketrans('', '', string.punctuation))"
   ]
  },
  {
   "cell_type": "markdown",
   "id": "9c3e46d0-942c-4700-b56d-84b4ba16604a",
   "metadata": {},
   "source": [
    "## Removing Numbers"
   ]
  },
  {
   "cell_type": "code",
   "execution_count": 34,
   "id": "d17f17da-8880-40c1-8b21-9a9fadc7d5de",
   "metadata": {},
   "outputs": [],
   "source": [
    "df['Review'] = df['Review'].str.replace(r'\\d+', '', regex=True)"
   ]
  },
  {
   "cell_type": "markdown",
   "id": "4e572147-27f8-400f-b2f6-2d13a45ea04b",
   "metadata": {},
   "source": [
    "## Removing Stopwords"
   ]
  },
  {
   "cell_type": "code",
   "execution_count": 38,
   "id": "c9f837a5-f285-4fb8-bd9f-a25c45944ea6",
   "metadata": {},
   "outputs": [
    {
     "name": "stderr",
     "output_type": "stream",
     "text": [
      "[nltk_data] Downloading package stopwords to\n",
      "[nltk_data]     /Users/geraint/nltk_data...\n",
      "[nltk_data]   Package stopwords is already up-to-date!\n"
     ]
    },
    {
     "data": {
      "text/html": [
       "<div>\n",
       "<style scoped>\n",
       "    .dataframe tbody tr th:only-of-type {\n",
       "        vertical-align: middle;\n",
       "    }\n",
       "\n",
       "    .dataframe tbody tr th {\n",
       "        vertical-align: top;\n",
       "    }\n",
       "\n",
       "    .dataframe thead th {\n",
       "        text-align: right;\n",
       "    }\n",
       "</style>\n",
       "<table border=\"1\" class=\"dataframe\">\n",
       "  <thead>\n",
       "    <tr style=\"text-align: right;\">\n",
       "      <th></th>\n",
       "      <th>Review</th>\n",
       "      <th>Sentiment</th>\n",
       "      <th>length</th>\n",
       "      <th>Review_Length</th>\n",
       "    </tr>\n",
       "  </thead>\n",
       "  <tbody>\n",
       "    <tr>\n",
       "      <th>0</th>\n",
       "      <td>flown dozens times never major issues</td>\n",
       "      <td>Positive</td>\n",
       "      <td>66</td>\n",
       "      <td>66</td>\n",
       "    </tr>\n",
       "    <tr>\n",
       "      <th>1</th>\n",
       "      <td>flown airasia thai airasia airasia philippines...</td>\n",
       "      <td>Positive</td>\n",
       "      <td>77</td>\n",
       "      <td>77</td>\n",
       "    </tr>\n",
       "    <tr>\n",
       "      <th>2</th>\n",
       "      <td>flown several times never problems weigh bag t...</td>\n",
       "      <td>Positive</td>\n",
       "      <td>155</td>\n",
       "      <td>155</td>\n",
       "    </tr>\n",
       "    <tr>\n",
       "      <th>3</th>\n",
       "      <td>within thailand good experiences flew air asia...</td>\n",
       "      <td>Negative</td>\n",
       "      <td>164</td>\n",
       "      <td>164</td>\n",
       "    </tr>\n",
       "    <tr>\n",
       "      <th>4</th>\n",
       "      <td>experience airasia japan</td>\n",
       "      <td>Negative</td>\n",
       "      <td>34</td>\n",
       "      <td>34</td>\n",
       "    </tr>\n",
       "  </tbody>\n",
       "</table>\n",
       "</div>"
      ],
      "text/plain": [
       "                                              Review Sentiment  length  \\\n",
       "0              flown dozens times never major issues  Positive      66   \n",
       "1  flown airasia thai airasia airasia philippines...  Positive      77   \n",
       "2  flown several times never problems weigh bag t...  Positive     155   \n",
       "3  within thailand good experiences flew air asia...  Negative     164   \n",
       "4                           experience airasia japan  Negative      34   \n",
       "\n",
       "   Review_Length  \n",
       "0             66  \n",
       "1             77  \n",
       "2            155  \n",
       "3            164  \n",
       "4             34  "
      ]
     },
     "execution_count": 38,
     "metadata": {},
     "output_type": "execute_result"
    }
   ],
   "source": [
    "import nltk\n",
    "from nltk.corpus import stopwords\n",
    "import contractions\n",
    "\n",
    "nltk.download('stopwords')\n",
    "\n",
    "def expand_and_remove_stopwords(text):\n",
    "    expanded_text = contractions.fix(text)\n",
    "    stop_words = set(stopwords.words('english'))\n",
    "    words = expanded_text.split()\n",
    "    filtered_words = [word for word in words if word.lower() not in stop_words]\n",
    "    return ' '.join(filtered_words)\n",
    "\n",
    "df['Review'] = df['Review'].apply(expand_and_remove_stopwords)\n",
    "df.head()"
   ]
  },
  {
   "cell_type": "markdown",
   "id": "e162113e-5421-4773-a574-38b05366b3dc",
   "metadata": {},
   "source": [
    "## Tokenization"
   ]
  },
  {
   "cell_type": "code",
   "execution_count": 40,
   "id": "806da80e-df28-4638-9aca-446932a28602",
   "metadata": {},
   "outputs": [
    {
     "name": "stderr",
     "output_type": "stream",
     "text": [
      "[nltk_data] Downloading package punkt_tab to\n",
      "[nltk_data]     /Users/geraint/nltk_data...\n",
      "[nltk_data]   Package punkt_tab is already up-to-date!\n"
     ]
    },
    {
     "data": {
      "text/html": [
       "<div>\n",
       "<style scoped>\n",
       "    .dataframe tbody tr th:only-of-type {\n",
       "        vertical-align: middle;\n",
       "    }\n",
       "\n",
       "    .dataframe tbody tr th {\n",
       "        vertical-align: top;\n",
       "    }\n",
       "\n",
       "    .dataframe thead th {\n",
       "        text-align: right;\n",
       "    }\n",
       "</style>\n",
       "<table border=\"1\" class=\"dataframe\">\n",
       "  <thead>\n",
       "    <tr style=\"text-align: right;\">\n",
       "      <th></th>\n",
       "      <th>Review</th>\n",
       "      <th>Sentiment</th>\n",
       "      <th>length</th>\n",
       "      <th>Review_Length</th>\n",
       "      <th>ReviewTokens</th>\n",
       "    </tr>\n",
       "  </thead>\n",
       "  <tbody>\n",
       "    <tr>\n",
       "      <th>0</th>\n",
       "      <td>flown dozens times never major issues</td>\n",
       "      <td>Positive</td>\n",
       "      <td>66</td>\n",
       "      <td>66</td>\n",
       "      <td>[flown, dozens, times, never, major, issues]</td>\n",
       "    </tr>\n",
       "    <tr>\n",
       "      <th>1</th>\n",
       "      <td>flown airasia thai airasia airasia philippines...</td>\n",
       "      <td>Positive</td>\n",
       "      <td>77</td>\n",
       "      <td>77</td>\n",
       "      <td>[flown, airasia, thai, airasia, airasia, phili...</td>\n",
       "    </tr>\n",
       "    <tr>\n",
       "      <th>2</th>\n",
       "      <td>flown several times never problems weigh bag t...</td>\n",
       "      <td>Positive</td>\n",
       "      <td>155</td>\n",
       "      <td>155</td>\n",
       "      <td>[flown, several, times, never, problems, weigh...</td>\n",
       "    </tr>\n",
       "    <tr>\n",
       "      <th>3</th>\n",
       "      <td>within thailand good experiences flew air asia...</td>\n",
       "      <td>Negative</td>\n",
       "      <td>164</td>\n",
       "      <td>164</td>\n",
       "      <td>[within, thailand, good, experiences, flew, ai...</td>\n",
       "    </tr>\n",
       "    <tr>\n",
       "      <th>4</th>\n",
       "      <td>experience airasia japan</td>\n",
       "      <td>Negative</td>\n",
       "      <td>34</td>\n",
       "      <td>34</td>\n",
       "      <td>[experience, airasia, japan]</td>\n",
       "    </tr>\n",
       "  </tbody>\n",
       "</table>\n",
       "</div>"
      ],
      "text/plain": [
       "                                              Review Sentiment  length  \\\n",
       "0              flown dozens times never major issues  Positive      66   \n",
       "1  flown airasia thai airasia airasia philippines...  Positive      77   \n",
       "2  flown several times never problems weigh bag t...  Positive     155   \n",
       "3  within thailand good experiences flew air asia...  Negative     164   \n",
       "4                           experience airasia japan  Negative      34   \n",
       "\n",
       "   Review_Length                                       ReviewTokens  \n",
       "0             66       [flown, dozens, times, never, major, issues]  \n",
       "1             77  [flown, airasia, thai, airasia, airasia, phili...  \n",
       "2            155  [flown, several, times, never, problems, weigh...  \n",
       "3            164  [within, thailand, good, experiences, flew, ai...  \n",
       "4             34                       [experience, airasia, japan]  "
      ]
     },
     "execution_count": 40,
     "metadata": {},
     "output_type": "execute_result"
    }
   ],
   "source": [
    "nltk.download('punkt_tab')\n",
    "\n",
    "from nltk.tokenize import word_tokenize\n",
    "df['ReviewTokens'] = df['Review'].apply(word_tokenize)\n",
    "\n",
    "df.head()"
   ]
  },
  {
   "cell_type": "markdown",
   "id": "593a171b-3fdc-45e7-ae70-ee53808251e9",
   "metadata": {},
   "source": [
    "## Lemmatization"
   ]
  },
  {
   "cell_type": "code",
   "execution_count": 44,
   "id": "c5d0c442-1d25-4c66-8482-35913ac4637e",
   "metadata": {},
   "outputs": [
    {
     "name": "stderr",
     "output_type": "stream",
     "text": [
      "[nltk_data] Downloading package wordnet to /Users/geraint/nltk_data...\n",
      "[nltk_data]   Package wordnet is already up-to-date!\n"
     ]
    },
    {
     "data": {
      "text/html": [
       "<div>\n",
       "<style scoped>\n",
       "    .dataframe tbody tr th:only-of-type {\n",
       "        vertical-align: middle;\n",
       "    }\n",
       "\n",
       "    .dataframe tbody tr th {\n",
       "        vertical-align: top;\n",
       "    }\n",
       "\n",
       "    .dataframe thead th {\n",
       "        text-align: right;\n",
       "    }\n",
       "</style>\n",
       "<table border=\"1\" class=\"dataframe\">\n",
       "  <thead>\n",
       "    <tr style=\"text-align: right;\">\n",
       "      <th></th>\n",
       "      <th>Review</th>\n",
       "      <th>Sentiment</th>\n",
       "      <th>length</th>\n",
       "      <th>Review_Length</th>\n",
       "      <th>ReviewTokens</th>\n",
       "    </tr>\n",
       "  </thead>\n",
       "  <tbody>\n",
       "    <tr>\n",
       "      <th>0</th>\n",
       "      <td>flown dozens times never major issues</td>\n",
       "      <td>Positive</td>\n",
       "      <td>66</td>\n",
       "      <td>66</td>\n",
       "      <td>[flown, dozen, time, never, major, issue]</td>\n",
       "    </tr>\n",
       "    <tr>\n",
       "      <th>1</th>\n",
       "      <td>flown airasia thai airasia airasia philippines...</td>\n",
       "      <td>Positive</td>\n",
       "      <td>77</td>\n",
       "      <td>77</td>\n",
       "      <td>[flown, airasia, thai, airasia, airasia, phili...</td>\n",
       "    </tr>\n",
       "    <tr>\n",
       "      <th>2</th>\n",
       "      <td>flown several times never problems weigh bag t...</td>\n",
       "      <td>Positive</td>\n",
       "      <td>155</td>\n",
       "      <td>155</td>\n",
       "      <td>[flown, several, time, never, problem, weigh, ...</td>\n",
       "    </tr>\n",
       "    <tr>\n",
       "      <th>3</th>\n",
       "      <td>within thailand good experiences flew air asia...</td>\n",
       "      <td>Negative</td>\n",
       "      <td>164</td>\n",
       "      <td>164</td>\n",
       "      <td>[within, thailand, good, experience, flew, air...</td>\n",
       "    </tr>\n",
       "    <tr>\n",
       "      <th>4</th>\n",
       "      <td>experience airasia japan</td>\n",
       "      <td>Negative</td>\n",
       "      <td>34</td>\n",
       "      <td>34</td>\n",
       "      <td>[experience, airasia, japan]</td>\n",
       "    </tr>\n",
       "  </tbody>\n",
       "</table>\n",
       "</div>"
      ],
      "text/plain": [
       "                                              Review Sentiment  length  \\\n",
       "0              flown dozens times never major issues  Positive      66   \n",
       "1  flown airasia thai airasia airasia philippines...  Positive      77   \n",
       "2  flown several times never problems weigh bag t...  Positive     155   \n",
       "3  within thailand good experiences flew air asia...  Negative     164   \n",
       "4                           experience airasia japan  Negative      34   \n",
       "\n",
       "   Review_Length                                       ReviewTokens  \n",
       "0             66          [flown, dozen, time, never, major, issue]  \n",
       "1             77  [flown, airasia, thai, airasia, airasia, phili...  \n",
       "2            155  [flown, several, time, never, problem, weigh, ...  \n",
       "3            164  [within, thailand, good, experience, flew, air...  \n",
       "4             34                       [experience, airasia, japan]  "
      ]
     },
     "execution_count": 44,
     "metadata": {},
     "output_type": "execute_result"
    }
   ],
   "source": [
    "nltk.download('wordnet')\n",
    "\n",
    "from nltk.stem import WordNetLemmatizer\n",
    "lemmatizer = WordNetLemmatizer()\n",
    "df['ReviewTokens'] = df['ReviewTokens'].apply(lambda x: [lemmatizer.lemmatize(word) for word in x])\n",
    "\n",
    "df.head()"
   ]
  },
  {
   "cell_type": "markdown",
   "id": "116dc2c8-e100-4551-9575-abe35d715ec1",
   "metadata": {},
   "source": [
    "# Pipelines"
   ]
  },
  {
   "cell_type": "code",
   "execution_count": 46,
   "id": "a976c941-bf86-4e85-89ef-c50fb729c2c8",
   "metadata": {},
   "outputs": [],
   "source": [
    "import numpy as np\n",
    "import pandas as pd\n",
    "from sklearn.feature_extraction.text import CountVectorizer, TfidfVectorizer\n",
    "from sklearn.linear_model import LogisticRegression\n",
    "from sklearn.ensemble import RandomForestClassifier, GradientBoostingClassifier\n",
    "from sklearn.svm import SVC\n",
    "from sklearn.naive_bayes import MultinomialNB\n",
    "from sklearn.pipeline import Pipeline\n",
    "from sklearn.model_selection import cross_val_predict\n",
    "import gensim.downloader as api\n",
    "from sklearn.metrics import accuracy_score, precision_score, recall_score, f1_score, classification_report\n",
    "from sklearn.model_selection import train_test_split\n",
    "from imblearn.over_sampling import SMOTE\n",
    "from sklearn.model_selection import train_test_split\n",
    "from sklearn.metrics import classification_report, confusion_matrix\n",
    "from sklearn.metrics import classification_report\n",
    "\n",
    "# Used to pass into N-gram and Vector Space\n",
    "X = df['Review']\n",
    "y = df['Sentiment']\n",
    "\n",
    "# Used to pass into word embeddings\n",
    "X_token = df['ReviewTokens']\n",
    "\n",
    "# Splitting the dataset to 80/20\n",
    "X_train, X_test, y_train, y_test = train_test_split(X, y, test_size=0.2, random_state=42)\n",
    "\n",
    "classifiers = {\n",
    "    \"Logistic Regression\": LogisticRegression(),\n",
    "    \"Random Forest\": RandomForestClassifier(),\n",
    "    \"Support Vector Machine\": SVC(),\n",
    "    \"Naïve Bayes\": MultinomialNB(),\n",
    "    \"Gradient Boosting\": GradientBoostingClassifier()\n",
    "}\n",
    "\n",
    "results = []"
   ]
  },
  {
   "cell_type": "markdown",
   "id": "0fbb331e-b27b-4800-a7d9-3b953329235f",
   "metadata": {},
   "source": [
    "## N-gram Features vs. Unigram Features"
   ]
  },
  {
   "cell_type": "code",
   "execution_count": 48,
   "id": "b05f9ef1-3dfe-4353-81f0-0035ab8685f6",
   "metadata": {},
   "outputs": [],
   "source": [
    "ngram_models = {\n",
    "    \"Unigram\": CountVectorizer(ngram_range=(1, 1)),\n",
    "    \"Bigram\": CountVectorizer(ngram_range=(2, 2)),\n",
    "    \"Trigram\": CountVectorizer(ngram_range=(3, 3)),\n",
    "    \"Combined N-Grams\": CountVectorizer(ngram_range=(1, 3))\n",
    "}"
   ]
  },
  {
   "cell_type": "code",
   "execution_count": 49,
   "id": "cbd2c532-1a25-4ca7-b595-274ba9cdb4da",
   "metadata": {},
   "outputs": [
    {
     "name": "stdout",
     "output_type": "stream",
     "text": [
      "=======================================================\n",
      "Logistic Regression\n",
      "=======================================================\n",
      "---------------------------------------------\n",
      "Unigram\n",
      "---------------------------------------------\n",
      "              precision    recall  f1-score   support\n",
      "\n",
      "    Negative       0.60      0.82      0.69       117\n",
      "     Neutral       0.26      0.12      0.17        48\n",
      "    Positive       0.35      0.17      0.23        35\n",
      "\n",
      "    accuracy                           0.54       200\n",
      "   macro avg       0.40      0.37      0.36       200\n",
      "weighted avg       0.48      0.54      0.49       200\n",
      "\n"
     ]
    },
    {
     "name": "stderr",
     "output_type": "stream",
     "text": [
      "/opt/anaconda3/lib/python3.12/site-packages/sklearn/metrics/_classification.py:1531: UndefinedMetricWarning: Precision is ill-defined and being set to 0.0 in labels with no predicted samples. Use `zero_division` parameter to control this behavior.\n",
      "  _warn_prf(average, modifier, f\"{metric.capitalize()} is\", len(result))\n"
     ]
    },
    {
     "name": "stdout",
     "output_type": "stream",
     "text": [
      "---------------------------------------------\n",
      "Bigram\n",
      "---------------------------------------------\n",
      "              precision    recall  f1-score   support\n",
      "\n",
      "    Negative       0.58      1.00      0.74       117\n",
      "     Neutral       1.00      0.00      0.00        48\n",
      "    Positive       1.00      0.00      0.00        35\n",
      "\n",
      "    accuracy                           0.58       200\n",
      "   macro avg       0.86      0.33      0.25       200\n",
      "weighted avg       0.76      0.58      0.43       200\n",
      "\n"
     ]
    },
    {
     "name": "stderr",
     "output_type": "stream",
     "text": [
      "/opt/anaconda3/lib/python3.12/site-packages/sklearn/metrics/_classification.py:1531: UndefinedMetricWarning: Precision is ill-defined and being set to 0.0 in labels with no predicted samples. Use `zero_division` parameter to control this behavior.\n",
      "  _warn_prf(average, modifier, f\"{metric.capitalize()} is\", len(result))\n"
     ]
    },
    {
     "name": "stdout",
     "output_type": "stream",
     "text": [
      "---------------------------------------------\n",
      "Trigram\n",
      "---------------------------------------------\n",
      "              precision    recall  f1-score   support\n",
      "\n",
      "    Negative       0.58      1.00      0.74       117\n",
      "     Neutral       1.00      0.00      0.00        48\n",
      "    Positive       1.00      0.00      0.00        35\n",
      "\n",
      "    accuracy                           0.58       200\n",
      "   macro avg       0.86      0.33      0.25       200\n",
      "weighted avg       0.76      0.58      0.43       200\n",
      "\n",
      "---------------------------------------------\n",
      "Combined N-Grams\n",
      "---------------------------------------------\n",
      "              precision    recall  f1-score   support\n",
      "\n",
      "    Negative       0.60      0.94      0.73       117\n",
      "     Neutral       0.42      0.10      0.17        48\n",
      "    Positive       0.40      0.06      0.10        35\n",
      "\n",
      "    accuracy                           0.58       200\n",
      "   macro avg       0.47      0.37      0.33       200\n",
      "weighted avg       0.52      0.58      0.49       200\n",
      "\n",
      "=======================================================\n",
      "Random Forest\n",
      "=======================================================\n",
      "---------------------------------------------\n",
      "Unigram\n",
      "---------------------------------------------\n",
      "              precision    recall  f1-score   support\n",
      "\n",
      "    Negative       0.60      0.93      0.73       117\n",
      "     Neutral       0.45      0.10      0.17        48\n",
      "    Positive       0.12      0.03      0.05        35\n",
      "\n",
      "    accuracy                           0.57       200\n",
      "   macro avg       0.39      0.35      0.32       200\n",
      "weighted avg       0.48      0.57      0.48       200\n",
      "\n"
     ]
    },
    {
     "name": "stderr",
     "output_type": "stream",
     "text": [
      "/opt/anaconda3/lib/python3.12/site-packages/sklearn/metrics/_classification.py:1531: UndefinedMetricWarning: Precision is ill-defined and being set to 0.0 in labels with no predicted samples. Use `zero_division` parameter to control this behavior.\n",
      "  _warn_prf(average, modifier, f\"{metric.capitalize()} is\", len(result))\n"
     ]
    },
    {
     "name": "stdout",
     "output_type": "stream",
     "text": [
      "---------------------------------------------\n",
      "Bigram\n",
      "---------------------------------------------\n",
      "              precision    recall  f1-score   support\n",
      "\n",
      "    Negative       0.58      1.00      0.74       117\n",
      "     Neutral       1.00      0.00      0.00        48\n",
      "    Positive       1.00      0.00      0.00        35\n",
      "\n",
      "    accuracy                           0.58       200\n",
      "   macro avg       0.86      0.33      0.25       200\n",
      "weighted avg       0.76      0.58      0.43       200\n",
      "\n"
     ]
    },
    {
     "name": "stderr",
     "output_type": "stream",
     "text": [
      "/opt/anaconda3/lib/python3.12/site-packages/sklearn/metrics/_classification.py:1531: UndefinedMetricWarning: Precision is ill-defined and being set to 0.0 in labels with no predicted samples. Use `zero_division` parameter to control this behavior.\n",
      "  _warn_prf(average, modifier, f\"{metric.capitalize()} is\", len(result))\n"
     ]
    },
    {
     "name": "stdout",
     "output_type": "stream",
     "text": [
      "---------------------------------------------\n",
      "Trigram\n",
      "---------------------------------------------\n",
      "              precision    recall  f1-score   support\n",
      "\n",
      "    Negative       0.58      1.00      0.74       117\n",
      "     Neutral       1.00      0.00      0.00        48\n",
      "    Positive       1.00      0.00      0.00        35\n",
      "\n",
      "    accuracy                           0.58       200\n",
      "   macro avg       0.86      0.33      0.25       200\n",
      "weighted avg       0.76      0.58      0.43       200\n",
      "\n"
     ]
    },
    {
     "name": "stderr",
     "output_type": "stream",
     "text": [
      "/opt/anaconda3/lib/python3.12/site-packages/sklearn/metrics/_classification.py:1531: UndefinedMetricWarning: Precision is ill-defined and being set to 0.0 in labels with no predicted samples. Use `zero_division` parameter to control this behavior.\n",
      "  _warn_prf(average, modifier, f\"{metric.capitalize()} is\", len(result))\n"
     ]
    },
    {
     "name": "stdout",
     "output_type": "stream",
     "text": [
      "---------------------------------------------\n",
      "Combined N-Grams\n",
      "---------------------------------------------\n",
      "              precision    recall  f1-score   support\n",
      "\n",
      "    Negative       0.58      1.00      0.74       117\n",
      "     Neutral       1.00      0.00      0.00        48\n",
      "    Positive       1.00      0.00      0.00        35\n",
      "\n",
      "    accuracy                           0.58       200\n",
      "   macro avg       0.86      0.33      0.25       200\n",
      "weighted avg       0.76      0.58      0.43       200\n",
      "\n",
      "=======================================================\n",
      "Support Vector Machine\n",
      "=======================================================\n"
     ]
    },
    {
     "name": "stderr",
     "output_type": "stream",
     "text": [
      "/opt/anaconda3/lib/python3.12/site-packages/sklearn/metrics/_classification.py:1531: UndefinedMetricWarning: Precision is ill-defined and being set to 0.0 in labels with no predicted samples. Use `zero_division` parameter to control this behavior.\n",
      "  _warn_prf(average, modifier, f\"{metric.capitalize()} is\", len(result))\n"
     ]
    },
    {
     "name": "stdout",
     "output_type": "stream",
     "text": [
      "---------------------------------------------\n",
      "Unigram\n",
      "---------------------------------------------\n",
      "              precision    recall  f1-score   support\n",
      "\n",
      "    Negative       0.58      1.00      0.74       117\n",
      "     Neutral       1.00      0.00      0.00        48\n",
      "    Positive       1.00      0.00      0.00        35\n",
      "\n",
      "    accuracy                           0.58       200\n",
      "   macro avg       0.86      0.33      0.25       200\n",
      "weighted avg       0.76      0.58      0.43       200\n",
      "\n"
     ]
    },
    {
     "name": "stderr",
     "output_type": "stream",
     "text": [
      "/opt/anaconda3/lib/python3.12/site-packages/sklearn/metrics/_classification.py:1531: UndefinedMetricWarning: Precision is ill-defined and being set to 0.0 in labels with no predicted samples. Use `zero_division` parameter to control this behavior.\n",
      "  _warn_prf(average, modifier, f\"{metric.capitalize()} is\", len(result))\n"
     ]
    },
    {
     "name": "stdout",
     "output_type": "stream",
     "text": [
      "---------------------------------------------\n",
      "Bigram\n",
      "---------------------------------------------\n",
      "              precision    recall  f1-score   support\n",
      "\n",
      "    Negative       0.58      1.00      0.74       117\n",
      "     Neutral       1.00      0.00      0.00        48\n",
      "    Positive       1.00      0.00      0.00        35\n",
      "\n",
      "    accuracy                           0.58       200\n",
      "   macro avg       0.86      0.33      0.25       200\n",
      "weighted avg       0.76      0.58      0.43       200\n",
      "\n"
     ]
    },
    {
     "name": "stderr",
     "output_type": "stream",
     "text": [
      "/opt/anaconda3/lib/python3.12/site-packages/sklearn/metrics/_classification.py:1531: UndefinedMetricWarning: Precision is ill-defined and being set to 0.0 in labels with no predicted samples. Use `zero_division` parameter to control this behavior.\n",
      "  _warn_prf(average, modifier, f\"{metric.capitalize()} is\", len(result))\n"
     ]
    },
    {
     "name": "stdout",
     "output_type": "stream",
     "text": [
      "---------------------------------------------\n",
      "Trigram\n",
      "---------------------------------------------\n",
      "              precision    recall  f1-score   support\n",
      "\n",
      "    Negative       0.58      1.00      0.74       117\n",
      "     Neutral       1.00      0.00      0.00        48\n",
      "    Positive       1.00      0.00      0.00        35\n",
      "\n",
      "    accuracy                           0.58       200\n",
      "   macro avg       0.86      0.33      0.25       200\n",
      "weighted avg       0.76      0.58      0.43       200\n",
      "\n"
     ]
    },
    {
     "name": "stderr",
     "output_type": "stream",
     "text": [
      "/opt/anaconda3/lib/python3.12/site-packages/sklearn/metrics/_classification.py:1531: UndefinedMetricWarning: Precision is ill-defined and being set to 0.0 in labels with no predicted samples. Use `zero_division` parameter to control this behavior.\n",
      "  _warn_prf(average, modifier, f\"{metric.capitalize()} is\", len(result))\n"
     ]
    },
    {
     "name": "stdout",
     "output_type": "stream",
     "text": [
      "---------------------------------------------\n",
      "Combined N-Grams\n",
      "---------------------------------------------\n",
      "              precision    recall  f1-score   support\n",
      "\n",
      "    Negative       0.58      1.00      0.74       117\n",
      "     Neutral       1.00      0.00      0.00        48\n",
      "    Positive       1.00      0.00      0.00        35\n",
      "\n",
      "    accuracy                           0.58       200\n",
      "   macro avg       0.86      0.33      0.25       200\n",
      "weighted avg       0.76      0.58      0.43       200\n",
      "\n",
      "=======================================================\n",
      "Naïve Bayes\n",
      "=======================================================\n",
      "---------------------------------------------\n",
      "Unigram\n",
      "---------------------------------------------\n",
      "              precision    recall  f1-score   support\n",
      "\n",
      "    Negative       0.61      0.86      0.72       117\n",
      "     Neutral       0.28      0.15      0.19        48\n",
      "    Positive       0.40      0.11      0.18        35\n",
      "\n",
      "    accuracy                           0.56       200\n",
      "   macro avg       0.43      0.37      0.36       200\n",
      "weighted avg       0.50      0.56      0.50       200\n",
      "\n",
      "---------------------------------------------\n",
      "Bigram\n",
      "---------------------------------------------\n",
      "              precision    recall  f1-score   support\n",
      "\n",
      "    Negative       0.61      0.93      0.74       117\n",
      "     Neutral       0.38      0.12      0.19        48\n",
      "    Positive       0.40      0.06      0.10        35\n",
      "\n",
      "    accuracy                           0.58       200\n",
      "   macro avg       0.46      0.37      0.34       200\n",
      "weighted avg       0.52      0.58      0.49       200\n",
      "\n"
     ]
    },
    {
     "name": "stderr",
     "output_type": "stream",
     "text": [
      "/opt/anaconda3/lib/python3.12/site-packages/sklearn/metrics/_classification.py:1531: UndefinedMetricWarning: Precision is ill-defined and being set to 0.0 in labels with no predicted samples. Use `zero_division` parameter to control this behavior.\n",
      "  _warn_prf(average, modifier, f\"{metric.capitalize()} is\", len(result))\n"
     ]
    },
    {
     "name": "stdout",
     "output_type": "stream",
     "text": [
      "---------------------------------------------\n",
      "Trigram\n",
      "---------------------------------------------\n",
      "              precision    recall  f1-score   support\n",
      "\n",
      "    Negative       0.59      0.99      0.74       117\n",
      "     Neutral       0.00      0.00      0.00        48\n",
      "    Positive       1.00      0.00      0.00        35\n",
      "\n",
      "    accuracy                           0.58       200\n",
      "   macro avg       0.53      0.33      0.25       200\n",
      "weighted avg       0.52      0.58      0.43       200\n",
      "\n",
      "---------------------------------------------\n",
      "Combined N-Grams\n",
      "---------------------------------------------\n",
      "              precision    recall  f1-score   support\n",
      "\n",
      "    Negative       0.60      0.97      0.74       117\n",
      "     Neutral       0.45      0.10      0.17        48\n",
      "    Positive       0.00      0.00      0.00        35\n",
      "\n",
      "    accuracy                           0.59       200\n",
      "   macro avg       0.35      0.36      0.30       200\n",
      "weighted avg       0.46      0.59      0.48       200\n",
      "\n",
      "=======================================================\n",
      "Gradient Boosting\n",
      "=======================================================\n",
      "---------------------------------------------\n",
      "Unigram\n",
      "---------------------------------------------\n",
      "              precision    recall  f1-score   support\n",
      "\n",
      "    Negative       0.60      0.85      0.70       117\n",
      "     Neutral       0.29      0.12      0.17        48\n",
      "    Positive       0.07      0.03      0.04        35\n",
      "\n",
      "    accuracy                           0.53       200\n",
      "   macro avg       0.32      0.33      0.31       200\n",
      "weighted avg       0.43      0.53      0.46       200\n",
      "\n",
      "---------------------------------------------\n",
      "Bigram\n",
      "---------------------------------------------\n",
      "              precision    recall  f1-score   support\n",
      "\n",
      "    Negative       0.59      0.98      0.74       117\n",
      "     Neutral       0.00      0.00      0.00        48\n",
      "    Positive       0.00      0.00      0.00        35\n",
      "\n",
      "    accuracy                           0.57       200\n",
      "   macro avg       0.20      0.33      0.25       200\n",
      "weighted avg       0.34      0.57      0.43       200\n",
      "\n"
     ]
    },
    {
     "name": "stderr",
     "output_type": "stream",
     "text": [
      "/opt/anaconda3/lib/python3.12/site-packages/sklearn/metrics/_classification.py:1531: UndefinedMetricWarning: Precision is ill-defined and being set to 0.0 in labels with no predicted samples. Use `zero_division` parameter to control this behavior.\n",
      "  _warn_prf(average, modifier, f\"{metric.capitalize()} is\", len(result))\n"
     ]
    },
    {
     "name": "stdout",
     "output_type": "stream",
     "text": [
      "---------------------------------------------\n",
      "Trigram\n",
      "---------------------------------------------\n",
      "              precision    recall  f1-score   support\n",
      "\n",
      "    Negative       0.58      1.00      0.74       117\n",
      "     Neutral       1.00      0.00      0.00        48\n",
      "    Positive       1.00      0.00      0.00        35\n",
      "\n",
      "    accuracy                           0.58       200\n",
      "   macro avg       0.86      0.33      0.25       200\n",
      "weighted avg       0.76      0.58      0.43       200\n",
      "\n",
      "---------------------------------------------\n",
      "Combined N-Grams\n",
      "---------------------------------------------\n",
      "              precision    recall  f1-score   support\n",
      "\n",
      "    Negative       0.59      0.87      0.70       117\n",
      "     Neutral       0.12      0.04      0.06        48\n",
      "    Positive       0.09      0.03      0.04        35\n",
      "\n",
      "    accuracy                           0.53       200\n",
      "   macro avg       0.27      0.31      0.27       200\n",
      "weighted avg       0.39      0.53      0.43       200\n",
      "\n"
     ]
    }
   ],
   "source": [
    "# Iterate over classifiers and n-gram models\n",
    "for clf_name, clf in classifiers.items():\n",
    "    print(\"=======================================================\")\n",
    "    print(clf_name)\n",
    "    print(\"=======================================================\")\n",
    "    for ngram_name, vectorizer in ngram_models.items():\n",
    "        pipeline = Pipeline([\n",
    "            ('vectorizer', vectorizer),\n",
    "            ('classifier', clf)\n",
    "        ])\n",
    "        \n",
    "        # Train and test the model\n",
    "        pipeline.fit(X_train, y_train)\n",
    "        y_pred = cross_val_predict(pipeline, X_test, y_test, cv=5)\n",
    "        \n",
    "        # Evaluate performance\n",
    "        accuracy = accuracy_score(y_test, y_pred)\n",
    "        precision = precision_score(y_test, y_pred, average='weighted')\n",
    "        recall = recall_score(y_test, y_pred, average='weighted')\n",
    "        f1 = f1_score(y_test, y_pred, average='weighted')\n",
    "        print (\"---------------------------------------------\")\n",
    "        print(ngram_name)\n",
    "        print (\"---------------------------------------------\")\n",
    "        print (classification_report(y_test, y_pred, zero_division=1))\n",
    "        \n",
    "        # Append results to list\n",
    "        results.append([\"N-Gram\", clf_name, ngram_name, accuracy, precision, recall, f1])"
   ]
  },
  {
   "cell_type": "markdown",
   "id": "295dc426-43fe-4329-993c-9cf1acd1b279",
   "metadata": {},
   "source": [
    "## Vector Space "
   ]
  },
  {
   "cell_type": "code",
   "execution_count": 52,
   "id": "d7968b1e-0724-4117-86c2-4facb8b08dec",
   "metadata": {},
   "outputs": [],
   "source": [
    "vector_space_models = {\n",
    "    \"Binary Representation\": CountVectorizer(binary=True),\n",
    "    \"Frequency Count\": CountVectorizer(max_features=10000, max_df=.15),\n",
    "    \"TF-IDF\": TfidfVectorizer(max_features=10000, max_df=.15)\n",
    "}"
   ]
  },
  {
   "cell_type": "code",
   "execution_count": 53,
   "id": "afd9dd20-b27d-422b-9304-f0954137ec9b",
   "metadata": {},
   "outputs": [
    {
     "name": "stdout",
     "output_type": "stream",
     "text": [
      "=======================================================\n",
      "Logistic Regression\n",
      "=======================================================\n",
      "---------------------------------------------\n",
      "Binary Representation\n",
      "---------------------------------------------\n",
      "              precision    recall  f1-score   support\n",
      "\n",
      "    Negative       0.60      0.84      0.70       117\n",
      "     Neutral       0.17      0.08      0.11        48\n",
      "    Positive       0.43      0.17      0.24        35\n",
      "\n",
      "    accuracy                           0.54       200\n",
      "   macro avg       0.40      0.36      0.35       200\n",
      "weighted avg       0.47      0.54      0.48       200\n",
      "\n",
      "---------------------------------------------\n",
      "Frequency Count\n",
      "---------------------------------------------\n",
      "              precision    recall  f1-score   support\n",
      "\n",
      "    Negative       0.60      0.86      0.71       117\n",
      "     Neutral       0.33      0.12      0.18        48\n",
      "    Positive       0.33      0.14      0.20        35\n",
      "\n",
      "    accuracy                           0.56       200\n",
      "   macro avg       0.42      0.38      0.36       200\n",
      "weighted avg       0.49      0.56      0.49       200\n",
      "\n",
      "---------------------------------------------\n",
      "TF-IDF\n",
      "---------------------------------------------\n",
      "              precision    recall  f1-score   support\n",
      "\n",
      "    Negative       0.58      1.00      0.74       117\n",
      "     Neutral       1.00      0.00      0.00        48\n",
      "    Positive       1.00      0.00      0.00        35\n",
      "\n",
      "    accuracy                           0.58       200\n",
      "   macro avg       0.86      0.33      0.25       200\n",
      "weighted avg       0.76      0.58      0.43       200\n",
      "\n",
      "=======================================================\n",
      "Random Forest\n",
      "=======================================================\n"
     ]
    },
    {
     "name": "stderr",
     "output_type": "stream",
     "text": [
      "/opt/anaconda3/lib/python3.12/site-packages/sklearn/metrics/_classification.py:1531: UndefinedMetricWarning: Precision is ill-defined and being set to 0.0 in labels with no predicted samples. Use `zero_division` parameter to control this behavior.\n",
      "  _warn_prf(average, modifier, f\"{metric.capitalize()} is\", len(result))\n"
     ]
    },
    {
     "name": "stdout",
     "output_type": "stream",
     "text": [
      "---------------------------------------------\n",
      "Binary Representation\n",
      "---------------------------------------------\n",
      "              precision    recall  f1-score   support\n",
      "\n",
      "    Negative       0.58      0.89      0.70       117\n",
      "     Neutral       0.17      0.04      0.07        48\n",
      "    Positive       0.00      0.00      0.00        35\n",
      "\n",
      "    accuracy                           0.53       200\n",
      "   macro avg       0.25      0.31      0.26       200\n",
      "weighted avg       0.38      0.53      0.43       200\n",
      "\n",
      "---------------------------------------------\n",
      "Frequency Count\n",
      "---------------------------------------------\n",
      "              precision    recall  f1-score   support\n",
      "\n",
      "    Negative       0.59      0.90      0.71       117\n",
      "     Neutral       0.29      0.08      0.13        48\n",
      "    Positive       0.11      0.03      0.05        35\n",
      "\n",
      "    accuracy                           0.55       200\n",
      "   macro avg       0.33      0.34      0.30       200\n",
      "weighted avg       0.44      0.55      0.46       200\n",
      "\n",
      "---------------------------------------------\n",
      "TF-IDF\n",
      "---------------------------------------------\n",
      "              precision    recall  f1-score   support\n",
      "\n",
      "    Negative       0.59      0.99      0.74       117\n",
      "     Neutral       0.67      0.04      0.08        48\n",
      "    Positive       1.00      0.03      0.06        35\n",
      "\n",
      "    accuracy                           0.59       200\n",
      "   macro avg       0.75      0.35      0.29       200\n",
      "weighted avg       0.68      0.59      0.46       200\n",
      "\n",
      "=======================================================\n",
      "Support Vector Machine\n",
      "=======================================================\n"
     ]
    },
    {
     "name": "stderr",
     "output_type": "stream",
     "text": [
      "/opt/anaconda3/lib/python3.12/site-packages/sklearn/metrics/_classification.py:1531: UndefinedMetricWarning: Precision is ill-defined and being set to 0.0 in labels with no predicted samples. Use `zero_division` parameter to control this behavior.\n",
      "  _warn_prf(average, modifier, f\"{metric.capitalize()} is\", len(result))\n"
     ]
    },
    {
     "name": "stdout",
     "output_type": "stream",
     "text": [
      "---------------------------------------------\n",
      "Binary Representation\n",
      "---------------------------------------------\n",
      "              precision    recall  f1-score   support\n",
      "\n",
      "    Negative       0.58      1.00      0.74       117\n",
      "     Neutral       1.00      0.00      0.00        48\n",
      "    Positive       1.00      0.00      0.00        35\n",
      "\n",
      "    accuracy                           0.58       200\n",
      "   macro avg       0.86      0.33      0.25       200\n",
      "weighted avg       0.76      0.58      0.43       200\n",
      "\n"
     ]
    },
    {
     "name": "stderr",
     "output_type": "stream",
     "text": [
      "/opt/anaconda3/lib/python3.12/site-packages/sklearn/metrics/_classification.py:1531: UndefinedMetricWarning: Precision is ill-defined and being set to 0.0 in labels with no predicted samples. Use `zero_division` parameter to control this behavior.\n",
      "  _warn_prf(average, modifier, f\"{metric.capitalize()} is\", len(result))\n"
     ]
    },
    {
     "name": "stdout",
     "output_type": "stream",
     "text": [
      "---------------------------------------------\n",
      "Frequency Count\n",
      "---------------------------------------------\n",
      "              precision    recall  f1-score   support\n",
      "\n",
      "    Negative       0.58      1.00      0.74       117\n",
      "     Neutral       1.00      0.00      0.00        48\n",
      "    Positive       1.00      0.00      0.00        35\n",
      "\n",
      "    accuracy                           0.58       200\n",
      "   macro avg       0.86      0.33      0.25       200\n",
      "weighted avg       0.76      0.58      0.43       200\n",
      "\n"
     ]
    },
    {
     "name": "stderr",
     "output_type": "stream",
     "text": [
      "/opt/anaconda3/lib/python3.12/site-packages/sklearn/metrics/_classification.py:1531: UndefinedMetricWarning: Precision is ill-defined and being set to 0.0 in labels with no predicted samples. Use `zero_division` parameter to control this behavior.\n",
      "  _warn_prf(average, modifier, f\"{metric.capitalize()} is\", len(result))\n",
      "/opt/anaconda3/lib/python3.12/site-packages/sklearn/metrics/_classification.py:1531: UndefinedMetricWarning: Precision is ill-defined and being set to 0.0 in labels with no predicted samples. Use `zero_division` parameter to control this behavior.\n",
      "  _warn_prf(average, modifier, f\"{metric.capitalize()} is\", len(result))\n"
     ]
    },
    {
     "name": "stdout",
     "output_type": "stream",
     "text": [
      "---------------------------------------------\n",
      "TF-IDF\n",
      "---------------------------------------------\n",
      "              precision    recall  f1-score   support\n",
      "\n",
      "    Negative       0.58      1.00      0.74       117\n",
      "     Neutral       1.00      0.00      0.00        48\n",
      "    Positive       1.00      0.00      0.00        35\n",
      "\n",
      "    accuracy                           0.58       200\n",
      "   macro avg       0.86      0.33      0.25       200\n",
      "weighted avg       0.76      0.58      0.43       200\n",
      "\n",
      "=======================================================\n",
      "Naïve Bayes\n",
      "=======================================================\n",
      "---------------------------------------------\n",
      "Binary Representation\n",
      "---------------------------------------------\n",
      "              precision    recall  f1-score   support\n",
      "\n",
      "    Negative       0.63      0.89      0.73       117\n",
      "     Neutral       0.33      0.15      0.20        48\n",
      "    Positive       0.31      0.11      0.17        35\n",
      "\n",
      "    accuracy                           0.57       200\n",
      "   macro avg       0.42      0.38      0.37       200\n",
      "weighted avg       0.50      0.57      0.51       200\n",
      "\n",
      "---------------------------------------------\n",
      "Frequency Count\n",
      "---------------------------------------------\n",
      "              precision    recall  f1-score   support\n",
      "\n",
      "    Negative       0.62      0.84      0.72       117\n",
      "     Neutral       0.29      0.17      0.21        48\n",
      "    Positive       0.47      0.20      0.28        35\n",
      "\n",
      "    accuracy                           0.56       200\n",
      "   macro avg       0.46      0.40      0.40       200\n",
      "weighted avg       0.52      0.56      0.52       200\n",
      "\n",
      "---------------------------------------------\n",
      "TF-IDF\n",
      "---------------------------------------------\n",
      "              precision    recall  f1-score   support\n",
      "\n",
      "    Negative       0.58      1.00      0.74       117\n",
      "     Neutral       1.00      0.00      0.00        48\n",
      "    Positive       1.00      0.00      0.00        35\n",
      "\n",
      "    accuracy                           0.58       200\n",
      "   macro avg       0.86      0.33      0.25       200\n",
      "weighted avg       0.76      0.58      0.43       200\n",
      "\n",
      "=======================================================\n",
      "Gradient Boosting\n",
      "=======================================================\n",
      "---------------------------------------------\n",
      "Binary Representation\n",
      "---------------------------------------------\n",
      "              precision    recall  f1-score   support\n",
      "\n",
      "    Negative       0.61      0.88      0.72       117\n",
      "     Neutral       0.29      0.10      0.15        48\n",
      "    Positive       0.08      0.03      0.04        35\n",
      "\n",
      "    accuracy                           0.55       200\n",
      "   macro avg       0.33      0.34      0.30       200\n",
      "weighted avg       0.44      0.55      0.46       200\n",
      "\n",
      "---------------------------------------------\n",
      "Frequency Count\n",
      "---------------------------------------------\n",
      "              precision    recall  f1-score   support\n",
      "\n",
      "    Negative       0.60      0.85      0.70       117\n",
      "     Neutral       0.26      0.10      0.15        48\n",
      "    Positive       0.06      0.03      0.04        35\n",
      "\n",
      "    accuracy                           0.53       200\n",
      "   macro avg       0.31      0.33      0.30       200\n",
      "weighted avg       0.43      0.53      0.45       200\n",
      "\n",
      "---------------------------------------------\n",
      "TF-IDF\n",
      "---------------------------------------------\n",
      "              precision    recall  f1-score   support\n",
      "\n",
      "    Negative       0.61      0.73      0.66       117\n",
      "     Neutral       0.24      0.17      0.20        48\n",
      "    Positive       0.33      0.26      0.29        35\n",
      "\n",
      "    accuracy                           0.51       200\n",
      "   macro avg       0.39      0.38      0.38       200\n",
      "weighted avg       0.47      0.51      0.49       200\n",
      "\n"
     ]
    }
   ],
   "source": [
    "for clf_name, clf in classifiers.items():\n",
    "    print(\"=======================================================\")\n",
    "    print(clf_name)\n",
    "    print(\"=======================================================\")\n",
    "    for vector_name, vectorizer in vector_space_models.items():\n",
    "        pipeline = Pipeline([\n",
    "            ('vectorizer', vectorizer),\n",
    "            ('classifier', clf)\n",
    "        ])\n",
    "        \n",
    "        pipeline.fit(X_train, y_train)\n",
    "        y_pred = cross_val_predict(pipeline, X_test, y_test, cv=5)\n",
    "        \n",
    "        # Evaluate performance\n",
    "        accuracy = accuracy_score(y_test, y_pred)\n",
    "        precision = precision_score(y_test, y_pred, average='weighted')\n",
    "        recall = recall_score(y_test, y_pred, average='weighted')\n",
    "        f1 = f1_score(y_test, y_pred, average='weighted')   \n",
    "        print (\"---------------------------------------------\")\n",
    "        print(vector_name)\n",
    "        print (\"---------------------------------------------\")\n",
    "        print (classification_report(y_test, y_pred, zero_division=1))\n",
    "        \n",
    "        # Append results to list\n",
    "        results.append([\"Vector Space\", clf_name, vector_name, accuracy, precision, recall, f1])"
   ]
  },
  {
   "cell_type": "markdown",
   "id": "c7c97c64-e255-43f2-a146-7dc7ab808180",
   "metadata": {},
   "source": [
    "## Word Embeddings"
   ]
  },
  {
   "cell_type": "code",
   "execution_count": 57,
   "id": "2c42c8f2-ebd6-4707-ab99-f77c2bfb7b40",
   "metadata": {},
   "outputs": [],
   "source": [
    "classifiers1 = {\n",
    "    \"Logistic Regression\": LogisticRegression(),\n",
    "    \"Random Forest\": RandomForestClassifier(),\n",
    "    \"Support Vector Machine\": SVC(),\n",
    "    \"Gradient Boosting\": GradientBoostingClassifier()\n",
    "}"
   ]
  },
  {
   "cell_type": "code",
   "execution_count": null,
   "id": "d73972ed-6b4e-4e22-af12-7ae9b8c8a36f",
   "metadata": {},
   "outputs": [
    {
     "name": "stdout",
     "output_type": "stream",
     "text": [
      "=======================================================\n",
      "Logistic Regression\n",
      "=======================================================\n",
      "---------------------------------------------\n",
      "Word2Vec\n",
      "---------------------------------------------\n",
      "              precision    recall  f1-score   support\n",
      "\n",
      "    Negative       0.71      0.91      0.80       117\n",
      "     Neutral       0.57      0.35      0.44        48\n",
      "    Positive       0.62      0.37      0.46        35\n",
      "\n",
      "    accuracy                           0.68       200\n",
      "   macro avg       0.63      0.54      0.57       200\n",
      "weighted avg       0.66      0.68      0.65       200\n",
      "\n",
      "---------------------------------------------\n",
      "GloVe\n",
      "---------------------------------------------\n",
      "              precision    recall  f1-score   support\n",
      "\n",
      "    Negative       0.63      0.90      0.74       117\n",
      "     Neutral       0.38      0.06      0.11        48\n",
      "    Positive       0.48      0.34      0.40        35\n",
      "\n",
      "    accuracy                           0.60       200\n",
      "   macro avg       0.49      0.43      0.42       200\n",
      "weighted avg       0.54      0.60      0.53       200\n",
      "\n",
      "=======================================================\n",
      "Random Forest\n",
      "=======================================================\n",
      "---------------------------------------------\n",
      "Word2Vec\n",
      "---------------------------------------------\n",
      "              precision    recall  f1-score   support\n",
      "\n",
      "    Negative       0.65      0.91      0.76       117\n",
      "     Neutral       0.42      0.17      0.24        48\n",
      "    Positive       0.50      0.23      0.31        35\n",
      "\n",
      "    accuracy                           0.61       200\n",
      "   macro avg       0.52      0.44      0.44       200\n",
      "weighted avg       0.57      0.61      0.56       200\n",
      "\n",
      "---------------------------------------------\n",
      "GloVe\n",
      "---------------------------------------------\n",
      "              precision    recall  f1-score   support\n",
      "\n",
      "    Negative       0.64      0.88      0.74       117\n",
      "     Neutral       0.21      0.06      0.10        48\n",
      "    Positive       0.32      0.23      0.27        35\n",
      "\n",
      "    accuracy                           0.57       200\n",
      "   macro avg       0.39      0.39      0.37       200\n",
      "weighted avg       0.48      0.57      0.50       200\n",
      "\n",
      "=======================================================\n",
      "Support Vector Machine\n",
      "=======================================================\n",
      "---------------------------------------------\n",
      "Word2Vec\n",
      "---------------------------------------------\n",
      "              precision    recall  f1-score   support\n",
      "\n",
      "    Negative       0.68      0.97      0.80       117\n",
      "     Neutral       0.48      0.21      0.29        48\n",
      "    Positive       0.71      0.29      0.41        35\n",
      "\n",
      "    accuracy                           0.67       200\n",
      "   macro avg       0.63      0.49      0.50       200\n",
      "weighted avg       0.64      0.67      0.61       200\n",
      "\n",
      "---------------------------------------------\n",
      "GloVe\n",
      "---------------------------------------------\n",
      "              precision    recall  f1-score   support\n",
      "\n",
      "    Negative       0.58      1.00      0.74       117\n",
      "     Neutral       1.00      0.00      0.00        48\n",
      "    Positive       1.00      0.00      0.00        35\n",
      "\n",
      "    accuracy                           0.58       200\n",
      "   macro avg       0.86      0.33      0.25       200\n",
      "weighted avg       0.76      0.58      0.43       200\n",
      "\n",
      "=======================================================\n",
      "Gradient Boosting\n",
      "=======================================================\n"
     ]
    },
    {
     "name": "stderr",
     "output_type": "stream",
     "text": [
      "/opt/anaconda3/lib/python3.12/site-packages/sklearn/metrics/_classification.py:1531: UndefinedMetricWarning: Precision is ill-defined and being set to 0.0 in labels with no predicted samples. Use `zero_division` parameter to control this behavior.\n",
      "  _warn_prf(average, modifier, f\"{metric.capitalize()} is\", len(result))\n"
     ]
    }
   ],
   "source": [
    "# Load pretrained Word2Vec (Google News)\n",
    "word2vec = api.load(\"word2vec-google-news-300\")\n",
    "\n",
    "# Load pretrained GloVe\n",
    "glove_vectors = api.load(\"glove-twitter-25\")\n",
    "\n",
    "# Function to convert text to word embeddings\n",
    "def get_embedding(tokens, model):\n",
    "    \"\"\"\n",
    "    Generates an average word embedding for a list of tokens.\n",
    "    \"\"\"\n",
    "    word_vectors = [model[word] for word in tokens if word in model]\n",
    "    if not word_vectors:\n",
    "        return np.zeros(model.vector_size)\n",
    "    return np.mean(word_vectors, axis=0)\n",
    "\n",
    "# Convert text data to embeddings\n",
    "X_word2vec = np.array([get_embedding(text, word2vec) for text in X_token])\n",
    "X_glove = np.array([get_embedding(text, glove_vectors) for text in X_token])\n",
    "\n",
    "# Train-test split for word embeddings\n",
    "X_train_w2v, X_test_w2v, y_train_w2v, y_test_w2v = train_test_split(X_word2vec, y, test_size=0.2, random_state=42)\n",
    "X_train_glove, X_test_glove, y_train_glove, y_test_glove = train_test_split(X_glove, y, test_size=0.2, random_state=42)\n",
    "\n",
    "# Test classifiers on word embeddings\n",
    "for clf_name, clf in classifiers1.items():\n",
    "    print(\"=======================================================\")\n",
    "    print(clf_name)\n",
    "    print(\"=======================================================\")\n",
    "    # Word2Vec\n",
    "    clf.fit(X_train_w2v, y_train_w2v)\n",
    "    y_pred_w2v = clf.predict(X_test_w2v)\n",
    "    \n",
    "    # Evaluate\n",
    "    accuracy_w2v = accuracy_score(y_test_w2v, y_pred_w2v)\n",
    "    precision_w2v = precision_score(y_test_w2v, y_pred_w2v, average='weighted')\n",
    "    recall_w2v = recall_score(y_test_w2v, y_pred_w2v, average='weighted')\n",
    "    f1_w2v = f1_score(y_test_w2v, y_pred_w2v, average='weighted')\n",
    "\n",
    "    print (\"---------------------------------------------\")\n",
    "    print(\"Word2Vec\")\n",
    "    print (\"---------------------------------------------\")\n",
    "    print (classification_report(y_test_w2v, y_pred_w2v, zero_division=1))\n",
    "    \n",
    "    results.append([\"Word Embedding\", clf_name, \"Word2Vec\", accuracy_w2v, precision_w2v, recall_w2v, f1_w2v])\n",
    "    \n",
    "    # GloVe\n",
    "    clf.fit(X_train_glove, y_train_glove)\n",
    "    y_pred_glove = clf.predict(X_test_glove)\n",
    "    \n",
    "    # Evaluate\n",
    "    accuracy_glove = accuracy_score(y_test_glove, y_pred_glove)\n",
    "    precision_glove = precision_score(y_test_glove, y_pred_glove, average='weighted')\n",
    "    recall_glove = recall_score(y_test_glove, y_pred_glove, average='weighted')\n",
    "    f1_glove = f1_score(y_test_glove, y_pred_glove, average='weighted')\n",
    "\n",
    "    print (\"---------------------------------------------\")\n",
    "    print(\"GloVe\")\n",
    "    print (\"---------------------------------------------\")\n",
    "    print (classification_report(y_test_glove, y_pred_glove, zero_division=1))\n",
    "    \n",
    "    results.append([\"Word Embedding\", clf_name, \"GloVe\", accuracy_glove, precision_glove, recall_glove, f1_glove])"
   ]
  },
  {
   "cell_type": "code",
   "execution_count": null,
   "id": "2f609526-2575-4cd8-a12e-4a6158f7bec5",
   "metadata": {},
   "outputs": [],
   "source": [
    "# Convert results into a DataFrame\n",
    "df_results = pd.DataFrame(results, columns=[\"Representation Type\", \"Classifier\", \"Feature Type\", \"Accuracy\", \"Precision\", \"Recall\", \"F1-Score\"])\n",
    "\n",
    "# Apply styling\n",
    "styled_df = df_results.style.format(precision=4).highlight_max(subset=[\"Accuracy\", \"Precision\", \"Recall\", \"F1-Score\"])\n",
    "\n",
    "# Display the styled table\n",
    "display(styled_df)"
   ]
  },
  {
   "cell_type": "markdown",
   "id": "1f85dad1-a0d8-4bb0-a2af-bb4955fe9c63",
   "metadata": {},
   "source": [
    "# Visualization and Insights"
   ]
  },
  {
   "cell_type": "code",
   "execution_count": null,
   "id": "26ec7083-fdb5-46af-a720-f5dbfe570605",
   "metadata": {},
   "outputs": [],
   "source": [
    "from wordcloud import WordCloud\n",
    "\n",
    "# Combine all reviews\n",
    "all_words = ' '.join(df['Review'].dropna())\n",
    "\n",
    "# Generate word cloud\n",
    "wordcloud = WordCloud(width=800, height=400, background_color='white').generate(all_words)\n",
    "\n",
    "# Display word cloud\n",
    "plt.figure(figsize=(10, 5))\n",
    "plt.imshow(wordcloud, interpolation='bilinear')\n",
    "plt.axis('off')\n",
    "plt.title('Most Common Words in Reviews')\n",
    "plt.show()\n"
   ]
  },
  {
   "cell_type": "code",
   "execution_count": null,
   "id": "ca57ccff-283a-4b0f-8cc3-4267c03eeb50",
   "metadata": {},
   "outputs": [],
   "source": [
    "for sentiment in df['Sentiment'].unique():\n",
    "    text = ' '.join(df[df['Sentiment'] == sentiment]['Review'].dropna())\n",
    "    wordcloud = WordCloud(width=800, height=400, background_color='white').generate(text)\n",
    "\n",
    "    plt.figure(figsize=(10, 5))\n",
    "    plt.imshow(wordcloud, interpolation='bilinear')\n",
    "    plt.axis('off')\n",
    "    plt.title(f'Common Words in {sentiment} Reviews')\n",
    "    plt.show()\n"
   ]
  },
  {
   "cell_type": "code",
   "execution_count": null,
   "id": "0867968b-d37d-4099-b0e7-539659aff1e1",
   "metadata": {},
   "outputs": [],
   "source": [
    "from sklearn.manifold import TSNE\n",
    "import seaborn as sns\n",
    "\n",
    "# Reduce dimensionality of Word2Vec embeddings to 2D\n",
    "tsne = TSNE(n_components=2, random_state=42)\n",
    "X_embedded = tsne.fit_transform(X_word2vec)  # Replace with X_glove for GloVe\n",
    "\n",
    "# Scatter plot\n",
    "plt.figure(figsize=(10, 6))\n",
    "sns.scatterplot(x=X_embedded[:,0], y=X_embedded[:,1], hue=y, palette=\"coolwarm\", alpha=0.7)\n",
    "plt.title(\"t-SNE Visualization of Word2Vec Embeddings\")\n",
    "plt.show()\n"
   ]
  },
  {
   "cell_type": "code",
   "execution_count": null,
   "id": "cdca468d-94c8-43c4-8bad-f08158d1b786",
   "metadata": {},
   "outputs": [],
   "source": [
    "positive_review = df[df['Sentiment'] == 'Positive']\n",
    "negative_review = df[df['Sentiment'] == 'Negative']"
   ]
  },
  {
   "cell_type": "code",
   "execution_count": null,
   "id": "0b21e566-c1cc-416e-9bea-8aca236b1139",
   "metadata": {},
   "outputs": [],
   "source": [
    "from collections import Counter\n",
    "\n",
    "# Define words to exclude\n",
    "exclude_words = {'airasia', 'aa', 'asia', 'air', 'flight', 'airline'}\n",
    "\n",
    "# Flatten and filter words for positive and negative reviews\n",
    "positive_words = [word for tokens in positive_review['ReviewTokens'] \n",
    "                  for word in tokens if word.lower() not in exclude_words]\n",
    "negative_words = [word for tokens in negative_review['ReviewTokens'] \n",
    "                  for word in tokens if word.lower() not in exclude_words]\n",
    "\n",
    "# Count word frequencies\n",
    "common_positive = Counter(positive_words).most_common(10)\n",
    "common_negative = Counter(negative_words).most_common(10)\n",
    "\n",
    "print(\"Most common words in Positive reviews:\", common_positive)\n",
    "print(\"Most common words in Negative reviews:\", common_negative)\n"
   ]
  },
  {
   "cell_type": "code",
   "execution_count": null,
   "id": "abb6b9ec-c877-460e-9726-690b3fcbad3b",
   "metadata": {},
   "outputs": [],
   "source": [
    "import gensim\n",
    "import pyLDAvis\n",
    "import pyLDAvis.gensim\n",
    "from gensim import corpora\n",
    "\n",
    "pyLDAvis.enable_notebook()"
   ]
  },
  {
   "cell_type": "code",
   "execution_count": null,
   "id": "22f36581-a63a-4830-99ac-1ba26c201d97",
   "metadata": {},
   "outputs": [],
   "source": [
    "from gensim import corpora\n",
    "import pyLDAvis\n",
    "import pyLDAvis.gensim\n",
    "import gensim\n",
    "\n",
    "positive_reviews = df[df['Sentiment'] == \"Positive\"]['ReviewTokens'].tolist()\n",
    "negative_reviews = df[df['Sentiment'] == \"Negative\"]['ReviewTokens'].tolist()\n",
    "\n",
    "positive_reviews = [eval(tokens) if isinstance(tokens, str) else tokens for tokens in positive_reviews]\n",
    "negative_reviews = [eval(tokens) if isinstance(tokens, str) else tokens for tokens in negative_reviews]\n",
    "\n",
    "def train_lda(reviews, num_topics):\n",
    "    dictionary = corpora.Dictionary(reviews)\n",
    "    corpus = [dictionary.doc2bow(text) for text in reviews]\n",
    "    lda_model = gensim.models.LdaMulticore(corpus, num_topics=num_topics, id2word=dictionary, passes=20, workers=2)\n",
    "    vis = pyLDAvis.gensim.prepare(lda_model, corpus, dictionary)\n",
    "    return vis\n",
    "\n",
    "lda_normal = train_lda(df['ReviewTokens'].tolist(), 5)\n",
    "pyLDAvis.display(lda_normal)"
   ]
  },
  {
   "cell_type": "code",
   "execution_count": null,
   "id": "c4ddd909-60e8-419f-bcd9-4486bfcb230f",
   "metadata": {},
   "outputs": [],
   "source": [
    "lda_vis_negative = train_lda(negative_reviews, 5)\n",
    "pyLDAvis.display(lda_vis_negative) "
   ]
  },
  {
   "cell_type": "code",
   "execution_count": null,
   "id": "30ace7d2-f3f8-41d0-948b-b61141466e8e",
   "metadata": {},
   "outputs": [],
   "source": [
    "lda_vis_positive = train_lda(positive_reviews, 5)\n",
    "pyLDAvis.display(lda_vis_positive)"
   ]
  },
  {
   "cell_type": "code",
   "execution_count": null,
   "id": "39af9b09-21f5-4fe1-bc9a-19802891143b",
   "metadata": {},
   "outputs": [],
   "source": []
  }
 ],
 "metadata": {
  "kernelspec": {
   "display_name": "Python 3 (ipykernel)",
   "language": "python",
   "name": "python3"
  },
  "language_info": {
   "codemirror_mode": {
    "name": "ipython",
    "version": 3
   },
   "file_extension": ".py",
   "mimetype": "text/x-python",
   "name": "python",
   "nbconvert_exporter": "python",
   "pygments_lexer": "ipython3",
   "version": "3.12.2"
  }
 },
 "nbformat": 4,
 "nbformat_minor": 5
}
